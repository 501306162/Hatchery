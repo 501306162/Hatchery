{
 "cells": [
  {
   "cell_type": "code",
   "execution_count": null,
   "metadata": {
    "collapsed": false
   },
   "outputs": [],
   "source": [
    "using NRIRHOPM, Images; gr()"
   ]
  },
  {
   "cell_type": "code",
   "execution_count": null,
   "metadata": {
    "collapsed": false
   },
   "outputs": [],
   "source": [
    "fixed = Float64[1 8 1.1 8.1 1.2 8.2 1.3 8.3 1.4 8.4 1.5 8.5 1.6 8.6 1.7 8.7;\n",
    "                7 0 7.1 0.1 7.2 0.2 7.3 0.3 7.4 0.4 7.5 0.5 7.6 0.6 7.7 0.7;\n",
    "                2 6 2.1 6.1 2.2 6.2 2.3 6.3 2.4 6.4 2.5 6.5 2.6 6.6 2.7 6.7;\n",
    "                9 3 9.1 3.1 9.2 3.2 9.3 3.3 9.4 3.4 9.5 3.5 9.6 3.6 9.7 3.7;\n",
    "                1 8 1.1 8.1 1.2 8.2 1.3 8.3 1.4 8.4 1.5 8.5 1.6 8.6 1.7 8.7;\n",
    "                7 0 7.1 0.1 7.2 0.2 7.3 0.3 7.4 0.4 7.5 0.5 7.6 0.6 7.7 0.7;\n",
    "                2 6 2.1 6.1 2.2 6.2 2.3 6.3 2.4 6.4 2.5 6.5 2.6 6.6 2.7 6.7;\n",
    "                9 3 9.1 3.1 9.2 3.2 9.3 3.3 9.4 3.4 9.5 3.5 9.6 3.6 9.7 3.7;\n",
    "                1 8 1.1 8.1 1.2 8.2 1.3 8.3 1.4 8.4 1.5 8.5 1.6 8.6 1.7 8.7;\n",
    "                7 0 7.1 0.1 7.2 0.2 7.3 0.3 7.4 0.4 7.5 0.5 7.6 0.6 7.7 0.7;\n",
    "                2 6 2.1 6.1 2.2 6.2 2.3 6.3 2.4 6.4 2.5 6.5 2.6 6.6 2.7 6.7;\n",
    "                9 3 9.1 3.1 9.2 3.2 9.3 3.3 9.4 3.4 9.5 3.5 9.6 3.6 9.7 3.7;\n",
    "                1 8 1.1 8.1 1.2 8.2 1.3 8.3 1.4 8.4 1.5 8.5 1.6 8.6 1.7 8.7;\n",
    "                7 0 7.1 0.1 7.2 0.2 7.3 0.3 7.4 0.4 7.5 0.5 7.6 0.6 7.7 0.7;\n",
    "                2 6 2.1 6.1 2.2 6.2 2.3 6.3 2.4 6.4 2.5 6.5 2.6 6.6 2.7 6.7;\n",
    "                9 3 9.1 3.1 9.2 3.2 9.3 3.3 9.4 3.4 9.5 3.5 9.6 3.6 9.7 3.7];\n",
    "fixed = fixed/maximum(fixed)\n",
    "\n",
    "moving =Float64[1 8 1.1 8.1 1.2 8.2 1.3 8.3 1.4 8.4 1.5 8.5 1.6 8.6 1.7 8.7;\n",
    "                7 0 7.1 0.1 7.2 0.2 7.3 0.3 7.4 0.4 7.5 0.5 7.6 0.6 7.7 0.7;\n",
    "                2 6 2.1 6.1 2.2 6.2 2.3 6.3 2.4 6.4 2.5 6.5 2.6 6.6 2.7 6.7;\n",
    "                9 3 9.1 3.1 9.2 3.2 9.3 3.3 9.4 3.4 9.5 3.5 9.6 3.6 9.7 3.7;\n",
    "                1 8 1.1 8.1 1.2 8.2 1.3 8.3 1.4 8.4 1.5 8.5 1.6 8.6 1.7 8.7;\n",
    "                7 0 7.1 0.1 7.2 0.2 7.3 0.3 7.4 0.4 7.5 0.5 7.6 0.6 7.7 0.7;\n",
    "                9 3 9.1 3.1 9.2 3.2 9.3 3.3 9.4 3.4 9.5 3.5 9.6 3.6 9.7 3.7;\n",
    "                2 6 2.1 6.1 2.2 6.2 2.3 6.3 2.4 6.4 2.5 6.5 2.6 6.6 2.7 6.7;\n",
    "                9 3 9.1 3.1 9.2 3.2 9.3 3.3 9.4 3.4 9.5 3.5 9.6 3.6 9.7 3.7;\n",
    "                7 0 7.1 0.1 7.2 0.2 7.3 0.3 7.4 0.4 7.5 0.5 7.6 0.6 7.7 0.7;\n",
    "                2 6 2.1 6.1 2.2 6.2 2.3 6.3 2.4 6.4 2.5 6.5 2.6 6.6 2.7 6.7;\n",
    "                9 3 9.1 3.1 9.2 3.2 9.3 3.3 9.4 3.4 9.5 3.5 9.6 3.6 9.7 3.7;\n",
    "                1 8 1.1 8.1 1.2 8.2 1.3 8.3 1.4 8.4 1.5 8.5 1.6 8.6 1.7 8.7;\n",
    "                7 0 7.1 0.1 7.2 0.2 7.3 0.3 7.4 0.4 7.5 0.5 7.6 0.6 7.7 0.7;\n",
    "                2 6 2.1 6.1 2.2 6.2 2.3 6.3 2.4 6.4 2.5 6.5 2.6 6.6 2.7 6.7;\n",
    "                9 3 9.1 3.1 9.2 3.2 9.3 3.3 9.4 3.4 9.5 3.5 9.6 3.6 9.7 3.7];\n",
    "moving = moving/maximum(moving)\n",
    "\n",
    "labels = [(i,j) for i in -1:1, j in -1:1];"
   ]
  },
  {
   "cell_type": "code",
   "execution_count": null,
   "metadata": {
    "collapsed": false
   },
   "outputs": [],
   "source": [
    "@time s, v, spectrum = dirhop(fixed, moving, labels, α=0.01, β=0.8)\n",
    "deformed, deformgrid = registering(moving, labels, v)\n",
    "Ω = prod(size(fixed))\n",
    "@show sum(abs(moving-fixed))/Ω\n",
    "@show sum(abs(deformed-fixed))/Ω"
   ]
  },
  {
   "cell_type": "code",
   "execution_count": null,
   "metadata": {
    "collapsed": false
   },
   "outputs": [],
   "source": [
    "displacementfield(meshgrid(deformgrid)...; ticks=1:16)"
   ]
  },
  {
   "cell_type": "code",
   "execution_count": null,
   "metadata": {
    "collapsed": false
   },
   "outputs": [],
   "source": [
    "displacementfield(meshgrid(deformgrid)...; ticks=1:16)"
   ]
  },
  {
   "cell_type": "code",
   "execution_count": null,
   "metadata": {
    "collapsed": false
   },
   "outputs": [],
   "source": []
  }
 ],
 "metadata": {
  "kernelspec": {
   "display_name": "Julia 0.5.0",
   "language": "julia",
   "name": "julia-0.5"
  },
  "language_info": {
   "file_extension": ".jl",
   "mimetype": "application/julia",
   "name": "julia",
   "version": "0.5.0"
  }
 },
 "nbformat": 4,
 "nbformat_minor": 1
}
