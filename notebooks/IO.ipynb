{
 "cells": [
  {
   "cell_type": "code",
   "execution_count": 1,
   "metadata": {
    "collapsed": false
   },
   "outputs": [
    {
     "name": "stderr",
     "output_type": "stream",
     "text": [
      "WARNING: Base.ByteString is deprecated, use String instead.\n",
      "  likely near /Users/gnimuc/.julia/v0.5/NIfTI/src/NIfTI.jl:88\n"
     ]
    }
   ],
   "source": [
    "using NRIRHOPM, Images"
   ]
  },
  {
   "cell_type": "code",
   "execution_count": 21,
   "metadata": {
    "collapsed": false
   },
   "outputs": [
    {
     "data": {
      "text/plain": [
       "256×256×106 Array{Int16,3}:\n",
       "[:, :, 1] =\n",
       " 37  18  21  19  23  22  40   37   0  …  29  32   29  32  31  37  32  17  13\n",
       " 24  38  25  29  23  27  32   38  18     27  32   25  29  24  25  32  25  25\n",
       " 22  26  32  32  32  31  36   29  27     30  39   21  28  24  34  31  21  16\n",
       " 17  26  21  28  25  21  27   37  30     34  33   19  30  23  29  22  15  19\n",
       " 14  21  19  17  25  22  18   20  44     22  26   25  27  18  22  21  19  24\n",
       " 39  12  18  20  27  19  24   18  37  …  11  29   32  26  13  18  24  18  36\n",
       " 46  25  14  19  32  23  20   21  26     17  38   33  14  16  26  30  24  33\n",
       " 35  34  24  18  22  22  25   21   9     19  40   20  20  23  34  31  15  21\n",
       " 21  26  24  33  29  13  19   22  13     27  35   31  14  18  28  32  18  26\n",
       " 29  21  23  24  27  22  21   28  20     21  31   18  20  36  29  26  15  30\n",
       " 27  14  21  27  20  26  27   31  22  …  25  19   27  33  22  21  20  27  34\n",
       " 19  12  18  30  23  21  26   33  26     23  21   34  22  27  27  28  23  19\n",
       " 33  18  14  29  28  19  14   25  30     28  24   25  33  31  24  23  19  21\n",
       "  ⋮                   ⋮               ⋱                ⋮                   ⋮\n",
       " 51  49  61  56  57  78  62   54  53     78  76   56  52  53  63  66  59  58\n",
       " 71  70  69  64  55  72  70   72  75  …  54  71   79  86  63  52  52  54  64\n",
       " 74  56  57  69  65  82  88   75  53     62  58   57  66  76  73  59  58  58\n",
       " 63  59  65  77  61  71  68   55  47     67  68   60  61  75  69  54  41  42\n",
       " 64  65  76  63  55  77  75   68  59     66  67   36  49  87  88  70  56  32\n",
       " 60  62  61  81  84  78  61   42  48     78  83   87  61  52  64  66  69  68\n",
       " 84  74  80  76  62  62  59   49  77  …  57  58   75  81  82  84  65  55  70\n",
       " 86  55  53  62  68  62  64   62  70     65  67   73  66  70  79  72  62  69\n",
       " 67  62  68  58  66  63  59   55  56     61  60   62  64  77  85  69  50  57\n",
       " 84  65  50  48  77  67  45   54  58     78  81   68  55  46  62  83  77  65\n",
       " 65  56  62  65  71  53  65   97  78     53  95  101  83  63  57  55  57  60\n",
       " 67  72  70  61  74  78  90  104  84  …  30  51   64  88  87  85  76  70  60\n",
       "\n",
       "[:, :, 2] =\n",
       " 22  37  24  25  31  28  31  26  20  …  28  23  24  25  26  27  20  24   30\n",
       " 14  29  38  27  28  27  24  33  18     27  32  29  23  29  22  23  30   32\n",
       " 25  25  31  33  27  27  31  41  26     28  31  23  29  28  31  24  24   16\n",
       " 18  30  26  30  25  16  30  44  45     19  22  32  26  29  31  21  19   15\n",
       " 20  21  29  28  26  14  24  35  42     19  24  29  19  29  33  23  15   27\n",
       " 34  19  29  37  23  14  23  31  33  …   7  33  23  24  30  29  10  23   32\n",
       " 19  32  22  33  30  13  19  30  30     23  36  22  27  27  17  18  31   23\n",
       " 22  17  31  29  29  17  13  27  34     27  22  37  29  21  11  22  24   21\n",
       " 24  16  19  39  27  19  19  24  30     28  32  39  13  14  24  26  26   22\n",
       " 21  34  21  30  27  22  25  24  22     15  39  28  18  22  30  19  15   15\n",
       " 27  26  34  31  25  14  25  32  23  …  31  33  30  23  16  26  19  22   29\n",
       " 29  25  30  40  32  17  17  29  23     33  27  29  19  19  23  23  33   27\n",
       " 12  24  31  34  34  24  18  23  18     37  25  17  15  18  27  26  22   25\n",
       "  ⋮                   ⋮              ⋱               ⋮                    ⋮\n",
       " 64  49  43  52  56  54  55  59  62     69  67  83  74  75  80  87  82   79\n",
       " 64  58  49  63  70  72  65  59  71  …  52  55  70  58  72  71  77  81   85\n",
       " 57  78  74  69  72  82  69  62  71     61  59  65  60  66  54  54  56   64\n",
       " 61  78  65  65  64  62  50  54  62     85  83  69  59  72  66  52  50   46\n",
       " 61  55  54  45  44  68  81  85  62     71  78  90  99  92  82  88  85   74\n",
       " 53  44  61  77  91  77  51  48  49     59  67  66  63  81  92  84  94  108\n",
       " 61  67  88  84  69  47  46  56  73  …  49  58  72  60  50  71  78  67   86\n",
       " 80  67  63  58  66  60  67  77  71     57  53  64  66  55  61  66  58   74\n",
       " 72  60  62  69  77  66  64  66  64     55  58  71  53  42  55  66  71   83\n",
       " 85  59  57  64  74  65  54  65  62     55  63  80  63  62  62  58  51   60\n",
       " 78  58  51  64  76  82  66  67  57     69  65  82  63  65  67  71  74   45\n",
       " 75  68  73  88  75  67  51  55  60  …  70  50  72  83  84  80  74  70   67\n",
       "\n",
       "[:, :, 3] =\n",
       " 38  23  28  30  40  34  24   37  20  …   12  20   40   38  47   37   8  18\n",
       " 38  25  29  29  31  32  28   40  36      14  43   43   31  24   25  15  48\n",
       " 33  24  28  29  26  28  40   43  36      20  43   39   26  21   22  26  40\n",
       " 30  34  31  29  27  25  29   51  37      38  48   34   15  25   34  29  33\n",
       " 32  34  41  31  28  26  22   33  46      41  29   20   17  35   32  21  47\n",
       " 33  31  39  35  29  22  27   26  37  …   32  30   25   22  26   23  31  49\n",
       " 25  33  40  36  32  27  24   33  33      43  31   26   20  30   36  38  32\n",
       " 23  25  40  36  31  34  24   29  34      41  36   31   23  35   32  22  30\n",
       " 36  27  40  38  29  28  32   41  34      41  43   19   23  35   31  30  39\n",
       " 42  36  31  39  32  24  21   43  40      52  31   23   34  39   30  29  33\n",
       " 32  39  35  37  34  33  24   27  26  …   49  30   26   35  40   35  32  33\n",
       " 29  29  37  40  41  32  27   28  18      35  36   26   37  34   39  33  30\n",
       " 27  30  33  38  39  37  25   30  34      45  36   30   28  34   27  30  34\n",
       "  ⋮                   ⋮               ⋱             ⋮                     ⋮\n",
       " 72  92  84  70  71  59  51   56  74      62  59   52   62  66   73  71  79\n",
       " 94  89  68  39  47  68  82   84  79  …   82  65   48   56  62   59  58  74\n",
       " 65  54  41  49  83  84  71   69  54      88  85   75   81  64   50  50  59\n",
       " 58  66  72  74  62  62  79   85  67      77  77   86   90  74   59  54  73\n",
       " 67  76  63  63  86  96  88   88  68     112  97   96  103  81   72  47  50\n",
       " 69  84  81  84  80  72  69   58  51      56  87  106   94  98  105  85  70\n",
       " 79  74  67  78  84  65  54   68  80  …   52  38   68   76  83   92  94  92\n",
       " 56  64  86  92  70  48  70  100  82      80  60   64   58  65   78  84  73\n",
       " 59  77  90  84  73  69  69   79  67      54  44   59   61  63   71  88  82\n",
       " 71  82  78  80  73  66  59   71  66      68  57   60   50  53   51  60  69\n",
       " 61  67  78  78  72  63  61   74  91      96  84   84   71  59   56  50  47\n",
       " 52  83  85  77  71  70  79   89  97  …   71  95   99   88  86   73  73  66\n",
       "\n",
       "...\n",
       "\n",
       "[:, :, 104] =\n",
       " 22   9  19  22  27  29  12   9  29  11  …    2   19   21   17   16   10   23\n",
       " 16  23  19  26  25  32  24  17  28  36      21   18   28   33   22   32   41\n",
       " 25  13  17  22  25  29  26  17  18  40      31   29   44   28   15   29   15\n",
       " 14  22  31  18  19  28  29  24   7  14      31   45   33    9   15   24    8\n",
       " 14  10  35  28  22  35  36  30  25  14      35   32   14   19   20   18    8\n",
       " 24   2  18  27  12  26  39  36  35  40  …   29   18   21   16   12   19   13\n",
       " 32  19   5  19  11   6  22  26  37  41      21   12    8   15   22   28   37\n",
       " 22  27  33  13  18   5  13  14  18  25      16   17   34   33   31   46   39\n",
       " 36   4  34  41  21  10   5  23  38  25      32   19   33   32   44   26    3\n",
       " 43  26   9  23  19  20   6   2  42  49      19   27   28   35   35    8    6\n",
       " 14  30  22  24  14  21  16   5   0  34  …   26   23   31   36   15   11   20\n",
       " 13  21   6  19  18  25  27  23   7   5      15   20   35   19   13   16   16\n",
       " 18  26  16   8   8   7  16  25  24  16      14   30   28   15   15    7   23\n",
       "  ⋮                   ⋮                  ⋱         ⋮                        ⋮\n",
       " 63  78  60  56  73  60  52  69  52  40      70   55   47   59   66   73   89\n",
       " 76  73  60  50  54  47  72  60  37  45  …   73   72   50   57   65   61   65\n",
       " 91  60  45  41  45  62  68  34  49  65      72   73   62   57   68   65   47\n",
       " 60  37  49  51  69  78  40  27  76  83      84   72   61   53   61   78   69\n",
       " 43  47  53  60  87  55  31  68  81  64      79   86   74   68   67   55   72\n",
       " 44  47  50  73  75  52  50  77  76  57      51   68   74   68   75   69   59\n",
       " 50  58  63  72  70  48  63  87  79  43  …   61   45   58   69   75   67   64\n",
       " 55  59  66  70  64  57  68  68  57  21      83   53   38   53   72   74   62\n",
       " 58  61  72  68  61  60  52  38  38  45      77   74   58   57   70   63   68\n",
       " 61  65  59  62  62  54  43  41  63  67      58   67   70   72   83   77   66\n",
       " 47  59  53  53  59  49  52  56  69  64      68   85   92  105   99  104  119\n",
       " 12  52  67  64  59  41  53  56  61  61  …  110  144  119   97  127  156  195\n",
       "\n",
       "[:, :, 105] =\n",
       "  6   20  35  14  35  49  39  13  20  …    4   24   66   39   36   30   13\n",
       " 41   21  26  27  23  38  55  34   5      26   53   45   35   37   11    4\n",
       " 21   30  10   9  19  26  34  49  39      40   31   26   19    8   14   26\n",
       " 34   29  32  17   9  20  24  26  38      17   20   16    7   16   32   25\n",
       " 33   39  29  39  24  31  30  26  25      15   19   19   22   33   25   30\n",
       " 13   33  21  31  31  27  42  36  32  …   14   21   23   37   28   21   20\n",
       "  9   28  18  14  26  16  23  27  30      30   20   29   24   28   31   17\n",
       "  1   25  21  19  16  22   7  25   9       6   21   39   34   27   18   22\n",
       "  7   12  17  26  25  34  14   3  21      11   48   34   27   12   21    7\n",
       " 33   23  22  19  23  30  38  17   7      62   35   26   21   12    6   36\n",
       " 30   28  26  24  17  33  40  50  21  …   41   27   16    5   11   33   57\n",
       " 27   28  37  27  15  22  30  36  50      34   17   11   19   31   40   28\n",
       " 21   19  38  25  15  16  13  18  20      16    6   23   36   25   24    9\n",
       "  ⋮                    ⋮              ⋱         ⋮                        ⋮\n",
       " 61   66  57  61  62  68  74  61  59      73   60   62   71   51   49   72\n",
       " 53   65  66  73  67  70  69  60  68  …   72   75   67   78   69   46   50\n",
       " 59   77  77  68  63  72  85  52  55      59   63   61   73   81   74   57\n",
       " 83   81  63  65  67  96  58  21  73      47   53   47   57   67   72   75\n",
       " 83   56  73  72  80  62  28  66  88      58   53   54   46   63   77   54\n",
       " 35   89  96  66  54  48  63  77  85      83   65   52   52   68   63   68\n",
       " 86  107  81  48  37  65  72  73  58  …   67   92   79   50   64   65   52\n",
       " 93   82  68  40  53  76  64  66  66      39   69   84   69   68   72   67\n",
       " 70   71  45  40  66  70  64  68  79      59   53   53   58   75   77   68\n",
       " 56   65  44  64  81  70  71  74  68      66   70   68   73  100  119  107\n",
       " 68   63  66  87  83  77  68  62  48     111  151  177  159  151  159  164\n",
       " 65   61  73  82  85  61  50  62  68  …  212  185  182  159  125  140  148\n",
       "\n",
       "[:, :, 106] =\n",
       " 38  38  23  26  12  19  45  17   0  37  …   13   18   23   11   31   45   17\n",
       " 14  49  37  30  27  17   7  39  13   4      17   28   12   30   39   26    6\n",
       " 11  21  32  31  31  37  23  17  38   9      26   10   33   41   28   11   30\n",
       " 15  25  23  28  27  31  35  21  25  30      11   33   42   24   20   29   34\n",
       " 11  13  15  19  33  35  32  28  32  32      34   35   17   14   33   28   27\n",
       " 25  20  10   9  15  27  30  16  23  31  …   28   11   12   27   20   19   26\n",
       " 31  40  28  14  14  20  22  26  22  19      19   22   27   20   20   31   35\n",
       " 24  31  44  20   7  20  22  16  34  37      40   29   24   24   33   33   21\n",
       " 36  22  32  34  15  11  19  19   3  57      34   22   26   27   29   13   33\n",
       " 30  38  33  35  32  27  12  22  11  11      30   21   21   26   29   46   51\n",
       "  9  24  26  34  35  32  16   9  37   6  …   11   25   34   37   41   36   12\n",
       " 15  13  11  23  36  46  33   9  17  27      30   27   29   35   29   12   10\n",
       " 21  32  10  13  27  35  48  40  16  29      19   16   22   25   19    7    5\n",
       "  ⋮                   ⋮                  ⋱         ⋮                        ⋮\n",
       " 54  68  75  64  76  75  52  50  54  55      94   75   63   62   46   49   69\n",
       " 64  67  67  70  68  52  52  67  73  67  …   73   79   80   73   64   55   49\n",
       " 62  69  69  50  52  74  72  66  65  69      55   62   81   69   72   79   59\n",
       " 65  78  59  53  84  83  64  69  74  51      68   43   64   72   68   85   85\n",
       " 70  63  61  77  75  59  67  79  58  38      88   66   50   63   55   63   97\n",
       " 62  72  62  59  68  63  67  58  56  57      71   76   70   61   50   55   79\n",
       " 58  75  55  69  70  60  59  68  79  62  …   73   61   65   65   51   55   91\n",
       " 66  66  70  74  71  60  63  73  68  66      77   77   75   58   53   51   75\n",
       " 72  76  74  68  58  56  72  70  65  64      65   74   85   79   64   59   57\n",
       " 88  68  66  63  60  64  78  76  69  63      58   61   94  129  127  113  118\n",
       " 73  46  63  65  66  85  83  73  71  61     147  173  201  229  225  184  180\n",
       " 58  44  80  72  67  70  67  72  61  72  …  248  233  180  148  152  152  144"
      ]
     },
     "execution_count": 21,
     "metadata": {},
     "output_type": "execute_result"
    }
   ],
   "source": [
    "img4 = open(\"../../../Codes/DataSets/DIRLab/Case5Pack/Images/case5_T00-ssm.img\", \"r\") do io\n",
    "    read(io, Int16, (256,256,106))\n",
    "end\n",
    "img4 = permutedims(img4, [2,1,3])"
   ]
  },
  {
   "cell_type": "code",
   "execution_count": 11,
   "metadata": {
    "collapsed": false
   },
   "outputs": [],
   "source": [
    "nii = load(\"../../../Codes/Simulations/NII/case5f.nii\")\n",
    "img = NRIRHOPM.readDIRLab(nii)\n",
    "im = AxisArray(Gray.(img/maximum(img)), img.axes);"
   ]
  },
  {
   "cell_type": "code",
   "execution_count": 3,
   "metadata": {
    "collapsed": false
   },
   "outputs": [
    {
     "data": {
      "image/png": "[encoded data removed]",
      "text/plain": [
       "2-dimensional AxisArray{Gray{Float32},2,...} with axes:\n",
       "    :A, Ranges.linspace(1.0f0 mm,281.6f0 mm,256)\n",
       "    :R, Ranges.linspace(1.0f0 mm,281.6f0 mm,256)\n",
       "And data, a 256×256 Array{Gray{Float32},2}:\n",
       " Gray{Float32}(0.00903541)  …  Gray{Float32}(0.0031746) \n",
       " Gray{Float32}(0.00586081)     Gray{Float32}(0.00610501)\n",
       " Gray{Float32}(0.00537241)     Gray{Float32}(0.0039072) \n",
       " Gray{Float32}(0.0041514)      Gray{Float32}(0.0046398) \n",
       " Gray{Float32}(0.0034188)      Gray{Float32}(0.00586081)\n",
       " Gray{Float32}(0.00952381)  …  Gray{Float32}(0.00879121)\n",
       " Gray{Float32}(0.0112332)      Gray{Float32}(0.00805861)\n",
       " Gray{Float32}(0.00854701)     Gray{Float32}(0.00512821)\n",
       " Gray{Float32}(0.00512821)     Gray{Float32}(0.00634921)\n",
       " Gray{Float32}(0.00708181)     Gray{Float32}(0.00732601)\n",
       " Gray{Float32}(0.00659341)  …  Gray{Float32}(0.00830281)\n",
       " Gray{Float32}(0.0046398)      Gray{Float32}(0.0046398) \n",
       " Gray{Float32}(0.00805861)     Gray{Float32}(0.00512821)\n",
       " ⋮                          ⋱  ⋮                        \n",
       " Gray{Float32}(0.0124542)      Gray{Float32}(0.0141636) \n",
       " Gray{Float32}(0.0173382)   …  Gray{Float32}(0.0156288) \n",
       " Gray{Float32}(0.0180708)      Gray{Float32}(0.0141636) \n",
       " Gray{Float32}(0.0153846)      Gray{Float32}(0.0102564) \n",
       " Gray{Float32}(0.0156288)      Gray{Float32}(0.00781441)\n",
       " Gray{Float32}(0.014652)       Gray{Float32}(0.0166056) \n",
       " Gray{Float32}(0.0205128)   …  Gray{Float32}(0.017094)  \n",
       " Gray{Float32}(0.0210012)      Gray{Float32}(0.0168498) \n",
       " Gray{Float32}(0.0163614)      Gray{Float32}(0.0139194) \n",
       " Gray{Float32}(0.0205128)      Gray{Float32}(0.015873)  \n",
       " Gray{Float32}(0.015873)       Gray{Float32}(0.014652)  \n",
       " Gray{Float32}(0.0163614)   …  Gray{Float32}(0.014652)  "
      ]
     },
     "execution_count": 3,
     "metadata": {},
     "output_type": "execute_result"
    }
   ],
   "source": [
    "im[Axis{:S}(1)]"
   ]
  },
  {
   "cell_type": "code",
   "execution_count": 4,
   "metadata": {
    "collapsed": false,
    "scrolled": true
   },
   "outputs": [
    {
     "data": {
      "image/png": "[encoded data removed]",
      "text/plain": [
       "2-dimensional AxisArray{Gray{Float32},2,...} with axes:\n",
       "    :R, Ranges.linspace(1.0f0 mm,281.6f0 mm,256)\n",
       "    :S, Ranges.linspace(1.0f0 mm,265.0f0 mm,106)\n",
       "And data, a 256×106 Array{Gray{Float32},2}:\n",
       " Gray{Float32}(0.00488401)  …  Gray{Float32}(0.00512821)\n",
       " Gray{Float32}(0.00488401)     Gray{Float32}(0.00805861)\n",
       " Gray{Float32}(0.00708181)     Gray{Float32}(0.0117216) \n",
       " Gray{Float32}(0.00854701)     Gray{Float32}(0.00805861)\n",
       " Gray{Float32}(0.00610501)     Gray{Float32}(0.00586081)\n",
       " Gray{Float32}(0.00586081)  …  Gray{Float32}(0.00732601)\n",
       " Gray{Float32}(0.00708181)     Gray{Float32}(0.00659341)\n",
       " Gray{Float32}(0.00732601)     Gray{Float32}(0.0144078) \n",
       " Gray{Float32}(0.00903541)     Gray{Float32}(0.0236874) \n",
       " Gray{Float32}(0.00561661)     Gray{Float32}(0.031746)  \n",
       " Gray{Float32}(0.00537241)  …  Gray{Float32}(0.0336996) \n",
       " Gray{Float32}(0.00586081)     Gray{Float32}(0.0288156) \n",
       " Gray{Float32}(0.00512821)     Gray{Float32}(0.0214896) \n",
       " ⋮                          ⋱  ⋮                        \n",
       " Gray{Float32}(0.0031746)      Gray{Float32}(0.0112332) \n",
       " Gray{Float32}(0.00781441)  …  Gray{Float32}(0.00976801)\n",
       " Gray{Float32}(0.0107448)      Gray{Float32}(0.00976801)\n",
       " Gray{Float32}(0.0039072)      Gray{Float32}(0.00659341)\n",
       " Gray{Float32}(0.00634921)     Gray{Float32}(0.0043956) \n",
       " Gray{Float32}(0.00879121)     Gray{Float32}(0.0041514) \n",
       " Gray{Float32}(0.00488401)  …  Gray{Float32}(0.00976801)\n",
       " Gray{Float32}(0.00708181)     Gray{Float32}(0.00683761)\n",
       " Gray{Float32}(0.00757021)     Gray{Float32}(0.0041514) \n",
       " Gray{Float32}(0.00488401)     Gray{Float32}(0.0102564) \n",
       " Gray{Float32}(0.00757021)     Gray{Float32}(0.0131868) \n",
       " Gray{Float32}(0.00830281)  …  Gray{Float32}(0.00610501)"
      ]
     },
     "execution_count": 4,
     "metadata": {},
     "output_type": "execute_result"
    }
   ],
   "source": [
    "im[Axis{:A}(50)]"
   ]
  },
  {
   "cell_type": "code",
   "execution_count": 5,
   "metadata": {
    "collapsed": false
   },
   "outputs": [
    {
     "name": "stdout",
     "output_type": "stream",
     "text": [
      "2-dimensional AxisArray{Gray{Float32},2,...} with axes:\n",
      "    :R, Ranges.linspace(1.0f0 mm,281.6f0 mm,256)\n",
      "    :S, Ranges.linspace(1.0f0 mm,265.0f0 mm,106)\n",
      "And data, a 256×106 Array{Gray{Float32},2}"
     ]
    }
   ],
   "source": [
    "print(summary(im[Axis{:A}(150)]))"
   ]
  },
  {
   "cell_type": "code",
   "execution_count": 6,
   "metadata": {
    "collapsed": false
   },
   "outputs": [
    {
     "data": {
      "image/png": "[encoded data removed]",
      "text/plain": [
       "2-dimensional AxisArray{Gray{Float32},2,...} with axes:\n",
       "    :A, Ranges.linspace(1.0f0 mm,281.6f0 mm,256)\n",
       "    :S, Ranges.linspace(1.0f0 mm,265.0f0 mm,106)\n",
       "And data, a 256×106 Array{Gray{Float32},2}:\n",
       " Gray{Float32}(0.00903541)  …  Gray{Float32}(0.00927961)\n",
       " Gray{Float32}(0.00586081)     Gray{Float32}(0.0034188) \n",
       " Gray{Float32}(0.00537241)     Gray{Float32}(0.0026862) \n",
       " Gray{Float32}(0.0041514)      Gray{Float32}(0.003663)  \n",
       " Gray{Float32}(0.0034188)      Gray{Float32}(0.0026862) \n",
       " Gray{Float32}(0.00952381)  …  Gray{Float32}(0.00610501)\n",
       " Gray{Float32}(0.0112332)      Gray{Float32}(0.00757021)\n",
       " Gray{Float32}(0.00854701)     Gray{Float32}(0.00586081)\n",
       " Gray{Float32}(0.00512821)     Gray{Float32}(0.00879121)\n",
       " Gray{Float32}(0.00708181)     Gray{Float32}(0.00732601)\n",
       " Gray{Float32}(0.00659341)  …  Gray{Float32}(0.0021978) \n",
       " Gray{Float32}(0.0046398)      Gray{Float32}(0.003663)  \n",
       " Gray{Float32}(0.00805861)     Gray{Float32}(0.00512821)\n",
       " ⋮                          ⋱  ⋮                        \n",
       " Gray{Float32}(0.0124542)      Gray{Float32}(0.0131868) \n",
       " Gray{Float32}(0.0173382)   …  Gray{Float32}(0.0156288) \n",
       " Gray{Float32}(0.0180708)      Gray{Float32}(0.0151404) \n",
       " Gray{Float32}(0.0153846)      Gray{Float32}(0.015873)  \n",
       " Gray{Float32}(0.0156288)      Gray{Float32}(0.017094)  \n",
       " Gray{Float32}(0.014652)       Gray{Float32}(0.0151404) \n",
       " Gray{Float32}(0.0205128)   …  Gray{Float32}(0.0141636) \n",
       " Gray{Float32}(0.0210012)      Gray{Float32}(0.0161172) \n",
       " Gray{Float32}(0.0163614)      Gray{Float32}(0.0175824) \n",
       " Gray{Float32}(0.0205128)      Gray{Float32}(0.0214896) \n",
       " Gray{Float32}(0.015873)       Gray{Float32}(0.0178266) \n",
       " Gray{Float32}(0.0163614)   …  Gray{Float32}(0.0141636) "
      ]
     },
     "execution_count": 6,
     "metadata": {},
     "output_type": "execute_result"
    }
   ],
   "source": [
    "im[Axis{:R}(1)]"
   ]
  },
  {
   "cell_type": "code",
   "execution_count": 7,
   "metadata": {
    "collapsed": false
   },
   "outputs": [
    {
     "name": "stdout",
     "output_type": "stream",
     "text": [
      "2-dimensional AxisArray{Gray{Float32},2,...} with axes:\n",
      "    :A, Ranges.linspace(1.0f0 mm,281.6f0 mm,256)\n",
      "    :S, Ranges.linspace(1.0f0 mm,265.0f0 mm,106)\n",
      "And data, a 256×106 Array{Gray{Float32},2}"
     ]
    }
   ],
   "source": [
    "print(summary(im[Axis{:R}(150)]))"
   ]
  },
  {
   "cell_type": "code",
   "execution_count": 8,
   "metadata": {
    "collapsed": false
   },
   "outputs": [
    {
     "data": {
      "text/plain": [
       "(1023.0f0,1024.0f0,918.0f0)"
      ]
     },
     "execution_count": 8,
     "metadata": {},
     "output_type": "execute_result"
    }
   ],
   "source": [
    "img[64,188,66], img[166,125,25], img[78,127,21]"
   ]
  },
  {
   "cell_type": "code",
   "execution_count": 10,
   "metadata": {
    "collapsed": false
   },
   "outputs": [],
   "source": [
    "nii2 = load(\"../../../Codes/Simulations/NII/case5m.nii\")\n",
    "img2 = NRIRHOPM.readDIRLab(nii2)\n",
    "im2 = AxisArray(Gray.(img2/maximum(img2)), img2.axes);"
   ]
  },
  {
   "cell_type": "code",
   "execution_count": 11,
   "metadata": {
    "collapsed": false
   },
   "outputs": [
    {
     "data": {
      "text/plain": [
       "(1025.0f0,1068.0f0,918.0f0)"
      ]
     },
     "execution_count": 11,
     "metadata": {},
     "output_type": "execute_result"
    }
   ],
   "source": [
    "img2[65,189,60], img2[166,125,25], img2[77,128,21]"
   ]
  },
  {
   "cell_type": "code",
   "execution_count": 12,
   "metadata": {
    "collapsed": false
   },
   "outputs": [
    {
     "data": {
      "text/plain": [
       "(37.0f0,27.0f0)"
      ]
     },
     "execution_count": 12,
     "metadata": {},
     "output_type": "execute_result"
    }
   ],
   "source": [
    "img[1,1,1], img2[1,1,1]"
   ]
  },
  {
   "cell_type": "code",
   "execution_count": 13,
   "metadata": {
    "collapsed": false
   },
   "outputs": [
    {
     "data": {
      "text/plain": [
       "2-dimensional AxisArray{Float32,2,...} with axes:\n",
       "    :A, Ranges.linspace(1.0f0 mm,281.6f0 mm,256)\n",
       "    :R, Ranges.linspace(1.0f0 mm,281.6f0 mm,256)\n",
       "And data, a 256×256 Array{Float32,2}:\n",
       " 37.0  18.0  21.0  19.0  23.0  22.0  …  32.0  31.0  37.0  32.0  17.0  13.0\n",
       " 24.0  38.0  25.0  29.0  23.0  27.0     29.0  24.0  25.0  32.0  25.0  25.0\n",
       " 22.0  26.0  32.0  32.0  32.0  31.0     28.0  24.0  34.0  31.0  21.0  16.0\n",
       " 17.0  26.0  21.0  28.0  25.0  21.0     30.0  23.0  29.0  22.0  15.0  19.0\n",
       " 14.0  21.0  19.0  17.0  25.0  22.0     27.0  18.0  22.0  21.0  19.0  24.0\n",
       " 39.0  12.0  18.0  20.0  27.0  19.0  …  26.0  13.0  18.0  24.0  18.0  36.0\n",
       " 46.0  25.0  14.0  19.0  32.0  23.0     14.0  16.0  26.0  30.0  24.0  33.0\n",
       " 35.0  34.0  24.0  18.0  22.0  22.0     20.0  23.0  34.0  31.0  15.0  21.0\n",
       " 21.0  26.0  24.0  33.0  29.0  13.0     14.0  18.0  28.0  32.0  18.0  26.0\n",
       " 29.0  21.0  23.0  24.0  27.0  22.0     20.0  36.0  29.0  26.0  15.0  30.0\n",
       " 27.0  14.0  21.0  27.0  20.0  26.0  …  33.0  22.0  21.0  20.0  27.0  34.0\n",
       " 19.0  12.0  18.0  30.0  23.0  21.0     22.0  27.0  27.0  28.0  23.0  19.0\n",
       " 33.0  18.0  14.0  29.0  28.0  19.0     33.0  31.0  24.0  23.0  19.0  21.0\n",
       "  ⋮                             ⋮    ⋱   ⋮                             ⋮  \n",
       " 51.0  49.0  61.0  56.0  57.0  78.0     52.0  53.0  63.0  66.0  59.0  58.0\n",
       " 71.0  70.0  69.0  64.0  55.0  72.0  …  86.0  63.0  52.0  52.0  54.0  64.0\n",
       " 74.0  56.0  57.0  69.0  65.0  82.0     66.0  76.0  73.0  59.0  58.0  58.0\n",
       " 63.0  59.0  65.0  77.0  61.0  71.0     61.0  75.0  69.0  54.0  41.0  42.0\n",
       " 64.0  65.0  76.0  63.0  55.0  77.0     49.0  87.0  88.0  70.0  56.0  32.0\n",
       " 60.0  62.0  61.0  81.0  84.0  78.0     61.0  52.0  64.0  66.0  69.0  68.0\n",
       " 84.0  74.0  80.0  76.0  62.0  62.0  …  81.0  82.0  84.0  65.0  55.0  70.0\n",
       " 86.0  55.0  53.0  62.0  68.0  62.0     66.0  70.0  79.0  72.0  62.0  69.0\n",
       " 67.0  62.0  68.0  58.0  66.0  63.0     64.0  77.0  85.0  69.0  50.0  57.0\n",
       " 84.0  65.0  50.0  48.0  77.0  67.0     55.0  46.0  62.0  83.0  77.0  65.0\n",
       " 65.0  56.0  62.0  65.0  71.0  53.0     83.0  63.0  57.0  55.0  57.0  60.0\n",
       " 67.0  72.0  70.0  61.0  74.0  78.0  …  88.0  87.0  85.0  76.0  70.0  60.0"
      ]
     },
     "execution_count": 13,
     "metadata": {},
     "output_type": "execute_result"
    }
   ],
   "source": [
    "img[:,:,1]"
   ]
  },
  {
   "cell_type": "code",
   "execution_count": 64,
   "metadata": {
    "collapsed": false
   },
   "outputs": [
    {
     "data": {
      "text/plain": [
       "3-dimensional AxisArray{Float32,3,...} with axes:\n",
       "    :A, Ranges.linspace(1.0f0 mm,281.6f0 mm,256)\n",
       "    :R, Ranges.linspace(1.0f0 mm,281.6f0 mm,256)\n",
       "    :S, Ranges.linspace(1.0f0 mm,265.0f0 mm,106)\n",
       "And data, a 256×256×106 Array{Float32,3}:\n",
       "[:, :, 1] =\n",
       " 37.0  18.0  21.0  19.0  23.0  22.0  …  32.0  31.0  37.0  32.0  17.0  13.0\n",
       " 24.0  38.0  25.0  29.0  23.0  27.0     29.0  24.0  25.0  32.0  25.0  25.0\n",
       " 22.0  26.0  32.0  32.0  32.0  31.0     28.0  24.0  34.0  31.0  21.0  16.0\n",
       " 17.0  26.0  21.0  28.0  25.0  21.0     30.0  23.0  29.0  22.0  15.0  19.0\n",
       " 14.0  21.0  19.0  17.0  25.0  22.0     27.0  18.0  22.0  21.0  19.0  24.0\n",
       " 39.0  12.0  18.0  20.0  27.0  19.0  …  26.0  13.0  18.0  24.0  18.0  36.0\n",
       " 46.0  25.0  14.0  19.0  32.0  23.0     14.0  16.0  26.0  30.0  24.0  33.0\n",
       " 35.0  34.0  24.0  18.0  22.0  22.0     20.0  23.0  34.0  31.0  15.0  21.0\n",
       " 21.0  26.0  24.0  33.0  29.0  13.0     14.0  18.0  28.0  32.0  18.0  26.0\n",
       " 29.0  21.0  23.0  24.0  27.0  22.0     20.0  36.0  29.0  26.0  15.0  30.0\n",
       " 27.0  14.0  21.0  27.0  20.0  26.0  …  33.0  22.0  21.0  20.0  27.0  34.0\n",
       " 19.0  12.0  18.0  30.0  23.0  21.0     22.0  27.0  27.0  28.0  23.0  19.0\n",
       " 33.0  18.0  14.0  29.0  28.0  19.0     33.0  31.0  24.0  23.0  19.0  21.0\n",
       "  ⋮                             ⋮    ⋱   ⋮                             ⋮  \n",
       " 51.0  49.0  61.0  56.0  57.0  78.0     52.0  53.0  63.0  66.0  59.0  58.0\n",
       " 71.0  70.0  69.0  64.0  55.0  72.0  …  86.0  63.0  52.0  52.0  54.0  64.0\n",
       " 74.0  56.0  57.0  69.0  65.0  82.0     66.0  76.0  73.0  59.0  58.0  58.0\n",
       " 63.0  59.0  65.0  77.0  61.0  71.0     61.0  75.0  69.0  54.0  41.0  42.0\n",
       " 64.0  65.0  76.0  63.0  55.0  77.0     49.0  87.0  88.0  70.0  56.0  32.0\n",
       " 60.0  62.0  61.0  81.0  84.0  78.0     61.0  52.0  64.0  66.0  69.0  68.0\n",
       " 84.0  74.0  80.0  76.0  62.0  62.0  …  81.0  82.0  84.0  65.0  55.0  70.0\n",
       " 86.0  55.0  53.0  62.0  68.0  62.0     66.0  70.0  79.0  72.0  62.0  69.0\n",
       " 67.0  62.0  68.0  58.0  66.0  63.0     64.0  77.0  85.0  69.0  50.0  57.0\n",
       " 84.0  65.0  50.0  48.0  77.0  67.0     55.0  46.0  62.0  83.0  77.0  65.0\n",
       " 65.0  56.0  62.0  65.0  71.0  53.0     83.0  63.0  57.0  55.0  57.0  60.0\n",
       " 67.0  72.0  70.0  61.0  74.0  78.0  …  88.0  87.0  85.0  76.0  70.0  60.0\n",
       "\n",
       "[:, :, 2] =\n",
       " 22.0  37.0  24.0  25.0  31.0  28.0  …  25.0  26.0  27.0  20.0  24.0   30.0\n",
       " 14.0  29.0  38.0  27.0  28.0  27.0     23.0  29.0  22.0  23.0  30.0   32.0\n",
       " 25.0  25.0  31.0  33.0  27.0  27.0     29.0  28.0  31.0  24.0  24.0   16.0\n",
       " 18.0  30.0  26.0  30.0  25.0  16.0     26.0  29.0  31.0  21.0  19.0   15.0\n",
       " 20.0  21.0  29.0  28.0  26.0  14.0     19.0  29.0  33.0  23.0  15.0   27.0\n",
       " 34.0  19.0  29.0  37.0  23.0  14.0  …  24.0  30.0  29.0  10.0  23.0   32.0\n",
       " 19.0  32.0  22.0  33.0  30.0  13.0     27.0  27.0  17.0  18.0  31.0   23.0\n",
       " 22.0  17.0  31.0  29.0  29.0  17.0     29.0  21.0  11.0  22.0  24.0   21.0\n",
       " 24.0  16.0  19.0  39.0  27.0  19.0     13.0  14.0  24.0  26.0  26.0   22.0\n",
       " 21.0  34.0  21.0  30.0  27.0  22.0     18.0  22.0  30.0  19.0  15.0   15.0\n",
       " 27.0  26.0  34.0  31.0  25.0  14.0  …  23.0  16.0  26.0  19.0  22.0   29.0\n",
       " 29.0  25.0  30.0  40.0  32.0  17.0     19.0  19.0  23.0  23.0  33.0   27.0\n",
       " 12.0  24.0  31.0  34.0  34.0  24.0     15.0  18.0  27.0  26.0  22.0   25.0\n",
       "  ⋮                             ⋮    ⋱   ⋮                              ⋮  \n",
       " 64.0  49.0  43.0  52.0  56.0  54.0     74.0  75.0  80.0  87.0  82.0   79.0\n",
       " 64.0  58.0  49.0  63.0  70.0  72.0  …  58.0  72.0  71.0  77.0  81.0   85.0\n",
       " 57.0  78.0  74.0  69.0  72.0  82.0     60.0  66.0  54.0  54.0  56.0   64.0\n",
       " 61.0  78.0  65.0  65.0  64.0  62.0     59.0  72.0  66.0  52.0  50.0   46.0\n",
       " 61.0  55.0  54.0  45.0  44.0  68.0     99.0  92.0  82.0  88.0  85.0   74.0\n",
       " 53.0  44.0  61.0  77.0  91.0  77.0     63.0  81.0  92.0  84.0  94.0  108.0\n",
       " 61.0  67.0  88.0  84.0  69.0  47.0  …  60.0  50.0  71.0  78.0  67.0   86.0\n",
       " 80.0  67.0  63.0  58.0  66.0  60.0     66.0  55.0  61.0  66.0  58.0   74.0\n",
       " 72.0  60.0  62.0  69.0  77.0  66.0     53.0  42.0  55.0  66.0  71.0   83.0\n",
       " 85.0  59.0  57.0  64.0  74.0  65.0     63.0  62.0  62.0  58.0  51.0   60.0\n",
       " 78.0  58.0  51.0  64.0  76.0  82.0     63.0  65.0  67.0  71.0  74.0   45.0\n",
       " 75.0  68.0  73.0  88.0  75.0  67.0  …  83.0  84.0  80.0  74.0  70.0   67.0\n",
       "\n",
       "[:, :, 3] =\n",
       " 38.0  23.0  28.0  30.0  40.0  34.0  24.0  …   38.0  47.0   37.0   8.0  18.0\n",
       " 38.0  25.0  29.0  29.0  31.0  32.0  28.0      31.0  24.0   25.0  15.0  48.0\n",
       " 33.0  24.0  28.0  29.0  26.0  28.0  40.0      26.0  21.0   22.0  26.0  40.0\n",
       " 30.0  34.0  31.0  29.0  27.0  25.0  29.0      15.0  25.0   34.0  29.0  33.0\n",
       " 32.0  34.0  41.0  31.0  28.0  26.0  22.0      17.0  35.0   32.0  21.0  47.0\n",
       " 33.0  31.0  39.0  35.0  29.0  22.0  27.0  …   22.0  26.0   23.0  31.0  49.0\n",
       " 25.0  33.0  40.0  36.0  32.0  27.0  24.0      20.0  30.0   36.0  38.0  32.0\n",
       " 23.0  25.0  40.0  36.0  31.0  34.0  24.0      23.0  35.0   32.0  22.0  30.0\n",
       " 36.0  27.0  40.0  38.0  29.0  28.0  32.0      23.0  35.0   31.0  30.0  39.0\n",
       " 42.0  36.0  31.0  39.0  32.0  24.0  21.0      34.0  39.0   30.0  29.0  33.0\n",
       " 32.0  39.0  35.0  37.0  34.0  33.0  24.0  …   35.0  40.0   35.0  32.0  33.0\n",
       " 29.0  29.0  37.0  40.0  41.0  32.0  27.0      37.0  34.0   39.0  33.0  30.0\n",
       " 27.0  30.0  33.0  38.0  39.0  37.0  25.0      28.0  34.0   27.0  30.0  34.0\n",
       "  ⋮                             ⋮          ⋱                             ⋮  \n",
       " 72.0  92.0  84.0  70.0  71.0  59.0  51.0      62.0  66.0   73.0  71.0  79.0\n",
       " 94.0  89.0  68.0  39.0  47.0  68.0  82.0  …   56.0  62.0   59.0  58.0  74.0\n",
       " 65.0  54.0  41.0  49.0  83.0  84.0  71.0      81.0  64.0   50.0  50.0  59.0\n",
       " 58.0  66.0  72.0  74.0  62.0  62.0  79.0      90.0  74.0   59.0  54.0  73.0\n",
       " 67.0  76.0  63.0  63.0  86.0  96.0  88.0     103.0  81.0   72.0  47.0  50.0\n",
       " 69.0  84.0  81.0  84.0  80.0  72.0  69.0      94.0  98.0  105.0  85.0  70.0\n",
       " 79.0  74.0  67.0  78.0  84.0  65.0  54.0  …   76.0  83.0   92.0  94.0  92.0\n",
       " 56.0  64.0  86.0  92.0  70.0  48.0  70.0      58.0  65.0   78.0  84.0  73.0\n",
       " 59.0  77.0  90.0  84.0  73.0  69.0  69.0      61.0  63.0   71.0  88.0  82.0\n",
       " 71.0  82.0  78.0  80.0  73.0  66.0  59.0      50.0  53.0   51.0  60.0  69.0\n",
       " 61.0  67.0  78.0  78.0  72.0  63.0  61.0      71.0  59.0   56.0  50.0  47.0\n",
       " 52.0  83.0  85.0  77.0  71.0  70.0  79.0  …   88.0  86.0   73.0  73.0  66.0\n",
       "\n",
       "...\n",
       "\n",
       "[:, :, 104] =\n",
       " 22.0   9.0  19.0  22.0  27.0  29.0  …   21.0   17.0   16.0   10.0   23.0\n",
       " 16.0  23.0  19.0  26.0  25.0  32.0      28.0   33.0   22.0   32.0   41.0\n",
       " 25.0  13.0  17.0  22.0  25.0  29.0      44.0   28.0   15.0   29.0   15.0\n",
       " 14.0  22.0  31.0  18.0  19.0  28.0      33.0    9.0   15.0   24.0    8.0\n",
       " 14.0  10.0  35.0  28.0  22.0  35.0      14.0   19.0   20.0   18.0    8.0\n",
       " 24.0   2.0  18.0  27.0  12.0  26.0  …   21.0   16.0   12.0   19.0   13.0\n",
       " 32.0  19.0   5.0  19.0  11.0   6.0       8.0   15.0   22.0   28.0   37.0\n",
       " 22.0  27.0  33.0  13.0  18.0   5.0      34.0   33.0   31.0   46.0   39.0\n",
       " 36.0   4.0  34.0  41.0  21.0  10.0      33.0   32.0   44.0   26.0    3.0\n",
       " 43.0  26.0   9.0  23.0  19.0  20.0      28.0   35.0   35.0    8.0    6.0\n",
       " 14.0  30.0  22.0  24.0  14.0  21.0  …   31.0   36.0   15.0   11.0   20.0\n",
       " 13.0  21.0   6.0  19.0  18.0  25.0      35.0   19.0   13.0   16.0   16.0\n",
       " 18.0  26.0  16.0   8.0   8.0   7.0      28.0   15.0   15.0    7.0   23.0\n",
       "  ⋮                             ⋮    ⋱                                ⋮  \n",
       " 63.0  78.0  60.0  56.0  73.0  60.0      47.0   59.0   66.0   73.0   89.0\n",
       " 76.0  73.0  60.0  50.0  54.0  47.0  …   50.0   57.0   65.0   61.0   65.0\n",
       " 91.0  60.0  45.0  41.0  45.0  62.0      62.0   57.0   68.0   65.0   47.0\n",
       " 60.0  37.0  49.0  51.0  69.0  78.0      61.0   53.0   61.0   78.0   69.0\n",
       " 43.0  47.0  53.0  60.0  87.0  55.0      74.0   68.0   67.0   55.0   72.0\n",
       " 44.0  47.0  50.0  73.0  75.0  52.0      74.0   68.0   75.0   69.0   59.0\n",
       " 50.0  58.0  63.0  72.0  70.0  48.0  …   58.0   69.0   75.0   67.0   64.0\n",
       " 55.0  59.0  66.0  70.0  64.0  57.0      38.0   53.0   72.0   74.0   62.0\n",
       " 58.0  61.0  72.0  68.0  61.0  60.0      58.0   57.0   70.0   63.0   68.0\n",
       " 61.0  65.0  59.0  62.0  62.0  54.0      70.0   72.0   83.0   77.0   66.0\n",
       " 47.0  59.0  53.0  53.0  59.0  49.0      92.0  105.0   99.0  104.0  119.0\n",
       " 12.0  52.0  67.0  64.0  59.0  41.0  …  119.0   97.0  127.0  156.0  195.0\n",
       "\n",
       "[:, :, 105] =\n",
       "  6.0   20.0  35.0  14.0  35.0  49.0  …   66.0   39.0   36.0   30.0   13.0\n",
       " 41.0   21.0  26.0  27.0  23.0  38.0      45.0   35.0   37.0   11.0    4.0\n",
       " 21.0   30.0  10.0   9.0  19.0  26.0      26.0   19.0    8.0   14.0   26.0\n",
       " 34.0   29.0  32.0  17.0   9.0  20.0      16.0    7.0   16.0   32.0   25.0\n",
       " 33.0   39.0  29.0  39.0  24.0  31.0      19.0   22.0   33.0   25.0   30.0\n",
       " 13.0   33.0  21.0  31.0  31.0  27.0  …   23.0   37.0   28.0   21.0   20.0\n",
       "  9.0   28.0  18.0  14.0  26.0  16.0      29.0   24.0   28.0   31.0   17.0\n",
       "  1.0   25.0  21.0  19.0  16.0  22.0      39.0   34.0   27.0   18.0   22.0\n",
       "  7.0   12.0  17.0  26.0  25.0  34.0      34.0   27.0   12.0   21.0    7.0\n",
       " 33.0   23.0  22.0  19.0  23.0  30.0      26.0   21.0   12.0    6.0   36.0\n",
       " 30.0   28.0  26.0  24.0  17.0  33.0  …   16.0    5.0   11.0   33.0   57.0\n",
       " 27.0   28.0  37.0  27.0  15.0  22.0      11.0   19.0   31.0   40.0   28.0\n",
       " 21.0   19.0  38.0  25.0  15.0  16.0      23.0   36.0   25.0   24.0    9.0\n",
       "  ⋮                              ⋮    ⋱                                ⋮  \n",
       " 61.0   66.0  57.0  61.0  62.0  68.0      62.0   71.0   51.0   49.0   72.0\n",
       " 53.0   65.0  66.0  73.0  67.0  70.0  …   67.0   78.0   69.0   46.0   50.0\n",
       " 59.0   77.0  77.0  68.0  63.0  72.0      61.0   73.0   81.0   74.0   57.0\n",
       " 83.0   81.0  63.0  65.0  67.0  96.0      47.0   57.0   67.0   72.0   75.0\n",
       " 83.0   56.0  73.0  72.0  80.0  62.0      54.0   46.0   63.0   77.0   54.0\n",
       " 35.0   89.0  96.0  66.0  54.0  48.0      52.0   52.0   68.0   63.0   68.0\n",
       " 86.0  107.0  81.0  48.0  37.0  65.0  …   79.0   50.0   64.0   65.0   52.0\n",
       " 93.0   82.0  68.0  40.0  53.0  76.0      84.0   69.0   68.0   72.0   67.0\n",
       " 70.0   71.0  45.0  40.0  66.0  70.0      53.0   58.0   75.0   77.0   68.0\n",
       " 56.0   65.0  44.0  64.0  81.0  70.0      68.0   73.0  100.0  119.0  107.0\n",
       " 68.0   63.0  66.0  87.0  83.0  77.0     177.0  159.0  151.0  159.0  164.0\n",
       " 65.0   61.0  73.0  82.0  85.0  61.0  …  182.0  159.0  125.0  140.0  148.0\n",
       "\n",
       "[:, :, 106] =\n",
       " 38.0  38.0  23.0  26.0  12.0  19.0  …   23.0   11.0   31.0   45.0   17.0\n",
       " 14.0  49.0  37.0  30.0  27.0  17.0      12.0   30.0   39.0   26.0    6.0\n",
       " 11.0  21.0  32.0  31.0  31.0  37.0      33.0   41.0   28.0   11.0   30.0\n",
       " 15.0  25.0  23.0  28.0  27.0  31.0      42.0   24.0   20.0   29.0   34.0\n",
       " 11.0  13.0  15.0  19.0  33.0  35.0      17.0   14.0   33.0   28.0   27.0\n",
       " 25.0  20.0  10.0   9.0  15.0  27.0  …   12.0   27.0   20.0   19.0   26.0\n",
       " 31.0  40.0  28.0  14.0  14.0  20.0      27.0   20.0   20.0   31.0   35.0\n",
       " 24.0  31.0  44.0  20.0   7.0  20.0      24.0   24.0   33.0   33.0   21.0\n",
       " 36.0  22.0  32.0  34.0  15.0  11.0      26.0   27.0   29.0   13.0   33.0\n",
       " 30.0  38.0  33.0  35.0  32.0  27.0      21.0   26.0   29.0   46.0   51.0\n",
       "  9.0  24.0  26.0  34.0  35.0  32.0  …   34.0   37.0   41.0   36.0   12.0\n",
       " 15.0  13.0  11.0  23.0  36.0  46.0      29.0   35.0   29.0   12.0   10.0\n",
       " 21.0  32.0  10.0  13.0  27.0  35.0      22.0   25.0   19.0    7.0    5.0\n",
       "  ⋮                             ⋮    ⋱                                ⋮  \n",
       " 54.0  68.0  75.0  64.0  76.0  75.0      63.0   62.0   46.0   49.0   69.0\n",
       " 64.0  67.0  67.0  70.0  68.0  52.0  …   80.0   73.0   64.0   55.0   49.0\n",
       " 62.0  69.0  69.0  50.0  52.0  74.0      81.0   69.0   72.0   79.0   59.0\n",
       " 65.0  78.0  59.0  53.0  84.0  83.0      64.0   72.0   68.0   85.0   85.0\n",
       " 70.0  63.0  61.0  77.0  75.0  59.0      50.0   63.0   55.0   63.0   97.0\n",
       " 62.0  72.0  62.0  59.0  68.0  63.0      70.0   61.0   50.0   55.0   79.0\n",
       " 58.0  75.0  55.0  69.0  70.0  60.0  …   65.0   65.0   51.0   55.0   91.0\n",
       " 66.0  66.0  70.0  74.0  71.0  60.0      75.0   58.0   53.0   51.0   75.0\n",
       " 72.0  76.0  74.0  68.0  58.0  56.0      85.0   79.0   64.0   59.0   57.0\n",
       " 88.0  68.0  66.0  63.0  60.0  64.0      94.0  129.0  127.0  113.0  118.0\n",
       " 73.0  46.0  63.0  65.0  66.0  85.0     201.0  229.0  225.0  184.0  180.0\n",
       " 58.0  44.0  80.0  72.0  67.0  70.0  …  180.0  148.0  152.0  152.0  144.0"
      ]
     },
     "execution_count": 64,
     "metadata": {},
     "output_type": "execute_result"
    }
   ],
   "source": [
    "img3 = permutedims(img,[2,1,3])"
   ]
  },
  {
   "cell_type": "code",
   "execution_count": 66,
   "metadata": {
    "collapsed": false
   },
   "outputs": [
    {
     "data": {
      "text/html": [
       "37.0"
      ],
      "text/plain": [
       "37.0f0"
      ]
     },
     "execution_count": 66,
     "metadata": {},
     "output_type": "execute_result"
    }
   ],
   "source": [
    "img3[1,1,1]"
   ]
  },
  {
   "cell_type": "code",
   "execution_count": 78,
   "metadata": {
    "collapsed": false
   },
   "outputs": [
    {
     "data": {
      "text/plain": [
       "2-dimensional AxisArray{Float32,2,...} with axes:\n",
       "    :R, Ranges.linspace(1.0f0 mm,281.6f0 mm,256)\n",
       "    :S, Ranges.linspace(1.0f0 mm,265.0f0 mm,106)\n",
       "And data, a 256×106 Array{Float32,2}:\n",
       " 20.0  20.0  26.0  28.0   9.0  41.0  35.0  …  39.0  24.0  46.0   30.0   21.0\n",
       " 20.0   3.0  38.0  16.0  25.0  40.0  29.0     29.0  42.0  31.0   18.0   33.0\n",
       " 29.0  21.0  31.0  22.0  27.0  38.0  21.0     40.0  13.0  18.0   16.0   48.0\n",
       " 35.0  27.0  39.0  34.0  40.0  42.0  11.0     53.0  13.0  37.0   13.0   33.0\n",
       " 25.0  25.0  39.0  44.0  30.0  38.0   4.0     47.0  30.0  42.0    2.0   24.0\n",
       " 24.0  32.0  32.0  44.0  22.0  31.0  20.0  …  44.0  25.0  32.0    9.0   30.0\n",
       " 29.0  25.0  19.0  45.0  30.0  37.0  34.0     49.0  25.0  23.0   22.0   27.0\n",
       " 30.0  35.0  28.0  30.0  47.0  28.0  29.0     39.0  24.0  27.0   23.0   59.0\n",
       " 37.0  35.0  34.0  14.0  50.0   7.0  24.0     50.0  37.0  25.0    8.0   97.0\n",
       " 23.0  21.0  40.0  26.0  22.0  32.0  27.0     59.0  20.0  34.0   46.0  130.0\n",
       " 22.0  39.0  45.0  41.0  17.0  30.0  20.0  …  68.0  52.0  29.0   97.0  138.0\n",
       " 24.0  24.0  44.0  42.0  34.0  34.0  27.0     48.0  60.0  23.0  141.0  118.0\n",
       " 21.0  25.0  38.0  35.0  41.0  28.0  30.0     32.0  44.0  32.0  147.0   88.0\n",
       "  ⋮                             ⋮          ⋱                             ⋮  \n",
       " 13.0  23.0  33.0  39.0  44.0  32.0  19.0     42.0  41.0  38.0   44.0   46.0\n",
       " 32.0  12.0  33.0  44.0  36.0  31.0  26.0  …  31.0  41.0  40.0   37.0   40.0\n",
       " 44.0  12.0  39.0  42.0  40.0  19.0  33.0     29.0  53.0  41.0   38.0   40.0\n",
       " 16.0  26.0  42.0  27.0  18.0  37.0  25.0     27.0  62.0  24.0   46.0   27.0\n",
       " 26.0  31.0  30.0  44.0  32.0  33.0  26.0     72.0  42.0   4.0   35.0   18.0\n",
       " 36.0  35.0  28.0  30.0  40.0  42.0  35.0     77.0  41.0  47.0   26.0   17.0\n",
       " 20.0  37.0  43.0  33.0  25.0  34.0  37.0  …  60.0  31.0  30.0   27.0   40.0\n",
       " 29.0  29.0  47.0  35.0  27.0  27.0  26.0     53.0  18.0  25.0   27.0   28.0\n",
       " 31.0  18.0  27.0  32.0  27.0  34.0  19.0     57.0  21.0  42.0   12.0   17.0\n",
       " 20.0  22.0  24.0  25.0  29.0  37.0  16.0     55.0  20.0  64.0    6.0   42.0\n",
       " 31.0  37.0  33.0  36.0  34.0  30.0  19.0     52.0  37.0  61.0   35.0   54.0\n",
       " 34.0  35.0  42.0  28.0  57.0  32.0  27.0  …  60.0  53.0  48.0   43.0   25.0"
      ]
     },
     "execution_count": 78,
     "metadata": {},
     "output_type": "execute_result"
    }
   ],
   "source": [
    "img3[50,:,:]"
   ]
  },
  {
   "cell_type": "code",
   "execution_count": 25,
   "metadata": {
    "collapsed": false
   },
   "outputs": [
    {
     "data": {
      "text/html": [
       "true"
      ],
      "text/plain": [
       "true"
      ]
     },
     "execution_count": 25,
     "metadata": {},
     "output_type": "execute_result"
    }
   ],
   "source": [
    "img == img4"
   ]
  },
  {
   "cell_type": "code",
   "execution_count": 23,
   "metadata": {
    "collapsed": false
   },
   "outputs": [
    {
     "data": {
      "image/png": "[encoded data removed]",
      "text/plain": [
       "256×256 Array{Gray{Float64},2}:\n",
       " Gray{Float64}(0.00903541)  …  Gray{Float64}(0.0031746) \n",
       " Gray{Float64}(0.00586081)     Gray{Float64}(0.00610501)\n",
       " Gray{Float64}(0.00537241)     Gray{Float64}(0.0039072) \n",
       " Gray{Float64}(0.0041514)      Gray{Float64}(0.0046398) \n",
       " Gray{Float64}(0.0034188)      Gray{Float64}(0.00586081)\n",
       " Gray{Float64}(0.00952381)  …  Gray{Float64}(0.00879121)\n",
       " Gray{Float64}(0.0112332)      Gray{Float64}(0.00805861)\n",
       " Gray{Float64}(0.00854701)     Gray{Float64}(0.00512821)\n",
       " Gray{Float64}(0.00512821)     Gray{Float64}(0.00634921)\n",
       " Gray{Float64}(0.00708181)     Gray{Float64}(0.00732601)\n",
       " Gray{Float64}(0.00659341)  …  Gray{Float64}(0.00830281)\n",
       " Gray{Float64}(0.0046398)      Gray{Float64}(0.0046398) \n",
       " Gray{Float64}(0.00805861)     Gray{Float64}(0.00512821)\n",
       " ⋮                          ⋱  ⋮                        \n",
       " Gray{Float64}(0.0124542)      Gray{Float64}(0.0141636) \n",
       " Gray{Float64}(0.0173382)   …  Gray{Float64}(0.0156288) \n",
       " Gray{Float64}(0.0180708)      Gray{Float64}(0.0141636) \n",
       " Gray{Float64}(0.0153846)      Gray{Float64}(0.0102564) \n",
       " Gray{Float64}(0.0156288)      Gray{Float64}(0.00781441)\n",
       " Gray{Float64}(0.014652)       Gray{Float64}(0.0166056) \n",
       " Gray{Float64}(0.0205128)   …  Gray{Float64}(0.017094)  \n",
       " Gray{Float64}(0.0210012)      Gray{Float64}(0.0168498) \n",
       " Gray{Float64}(0.0163614)      Gray{Float64}(0.0139194) \n",
       " Gray{Float64}(0.0205128)      Gray{Float64}(0.015873)  \n",
       " Gray{Float64}(0.015873)       Gray{Float64}(0.014652)  \n",
       " Gray{Float64}(0.0163614)   …  Gray{Float64}(0.014652)  "
      ]
     },
     "execution_count": 23,
     "metadata": {},
     "output_type": "execute_result"
    }
   ],
   "source": [
    "Gray.(img4[:,:,1]/maximum(img4))"
   ]
  },
  {
   "cell_type": "code",
   "execution_count": 22,
   "metadata": {
    "collapsed": false
   },
   "outputs": [
    {
     "data": {
      "text/plain": [
       "256×256 Array{Int16,2}:\n",
       " 37  18  21  19  23  22  40   37   0  …  29  32   29  32  31  37  32  17  13\n",
       " 24  38  25  29  23  27  32   38  18     27  32   25  29  24  25  32  25  25\n",
       " 22  26  32  32  32  31  36   29  27     30  39   21  28  24  34  31  21  16\n",
       " 17  26  21  28  25  21  27   37  30     34  33   19  30  23  29  22  15  19\n",
       " 14  21  19  17  25  22  18   20  44     22  26   25  27  18  22  21  19  24\n",
       " 39  12  18  20  27  19  24   18  37  …  11  29   32  26  13  18  24  18  36\n",
       " 46  25  14  19  32  23  20   21  26     17  38   33  14  16  26  30  24  33\n",
       " 35  34  24  18  22  22  25   21   9     19  40   20  20  23  34  31  15  21\n",
       " 21  26  24  33  29  13  19   22  13     27  35   31  14  18  28  32  18  26\n",
       " 29  21  23  24  27  22  21   28  20     21  31   18  20  36  29  26  15  30\n",
       " 27  14  21  27  20  26  27   31  22  …  25  19   27  33  22  21  20  27  34\n",
       " 19  12  18  30  23  21  26   33  26     23  21   34  22  27  27  28  23  19\n",
       " 33  18  14  29  28  19  14   25  30     28  24   25  33  31  24  23  19  21\n",
       "  ⋮                   ⋮               ⋱                ⋮                   ⋮\n",
       " 51  49  61  56  57  78  62   54  53     78  76   56  52  53  63  66  59  58\n",
       " 71  70  69  64  55  72  70   72  75  …  54  71   79  86  63  52  52  54  64\n",
       " 74  56  57  69  65  82  88   75  53     62  58   57  66  76  73  59  58  58\n",
       " 63  59  65  77  61  71  68   55  47     67  68   60  61  75  69  54  41  42\n",
       " 64  65  76  63  55  77  75   68  59     66  67   36  49  87  88  70  56  32\n",
       " 60  62  61  81  84  78  61   42  48     78  83   87  61  52  64  66  69  68\n",
       " 84  74  80  76  62  62  59   49  77  …  57  58   75  81  82  84  65  55  70\n",
       " 86  55  53  62  68  62  64   62  70     65  67   73  66  70  79  72  62  69\n",
       " 67  62  68  58  66  63  59   55  56     61  60   62  64  77  85  69  50  57\n",
       " 84  65  50  48  77  67  45   54  58     78  81   68  55  46  62  83  77  65\n",
       " 65  56  62  65  71  53  65   97  78     53  95  101  83  63  57  55  57  60\n",
       " 67  72  70  61  74  78  90  104  84  …  30  51   64  88  87  85  76  70  60"
      ]
     },
     "execution_count": 22,
     "metadata": {},
     "output_type": "execute_result"
    }
   ],
   "source": [
    "img4[:,:,1]"
   ]
  },
  {
   "cell_type": "code",
   "execution_count": null,
   "metadata": {
    "collapsed": true
   },
   "outputs": [],
   "source": []
  }
 ],
 "metadata": {
  "kernelspec": {
   "display_name": "Julia 0.5.0",
   "language": "julia",
   "name": "julia-0.5"
  },
  "language_info": {
   "file_extension": ".jl",
   "mimetype": "application/julia",
   "name": "julia",
   "version": "0.5.0"
  }
 },
 "nbformat": 4,
 "nbformat_minor": 1
}
