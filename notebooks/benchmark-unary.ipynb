{
 "cells": [
  {
   "cell_type": "code",
   "execution_count": 1,
   "metadata": {
    "collapsed": false
   },
   "outputs": [],
   "source": [
    "using StaticArrays, ProfileView, BenchmarkTools"
   ]
  },
  {
   "cell_type": "code",
   "execution_count": 2,
   "metadata": {
    "collapsed": false
   },
   "outputs": [
    {
     "data": {
      "text/plain": [
       "sum_diff (generic function with 1 method)"
      ]
     },
     "execution_count": 2,
     "metadata": {},
     "output_type": "execute_result"
    }
   ],
   "source": [
    "include(\"./sumdiff.jl\")"
   ]
  },
  {
   "cell_type": "code",
   "execution_count": 3,
   "metadata": {
    "collapsed": false
   },
   "outputs": [],
   "source": [
    "fixed = rand(256,256,106)\n",
    "moving = rand(256,256,106)\n",
    "displacements = [SVector(i,j,k) for i = -1:1, j = -1:1, k = -1:1];"
   ]
  },
  {
   "cell_type": "code",
   "execution_count": 4,
   "metadata": {
    "collapsed": false
   },
   "outputs": [
    {
     "name": "stdout",
     "output_type": "stream",
     "text": [
      "  5.793491 seconds (150.90 k allocations: 28.688 MB, 0.26% gc time)\n"
     ]
    },
    {
     "data": {
      "text/plain": [
       "27×106496 Array{Float64,2}:\n",
       "  0.0      0.0      0.0      0.0     …  46.014   45.7646  47.3708  45.8706\n",
       "  0.0      0.0      0.0      0.0        46.2716  47.6468  46.5452  47.2086\n",
       "  0.0      0.0      0.0      0.0        44.7346  45.6662  47.4459   0.0   \n",
       "  0.0      0.0      0.0      0.0        47.0722  46.7855  48.477   46.3486\n",
       "  0.0      0.0      0.0      0.0        47.0204  47.0546  47.7439  45.9388\n",
       "  0.0      0.0      0.0      0.0     …  48.5392  46.1386  48.1979   0.0   \n",
       "  0.0      0.0      0.0      0.0         0.0      0.0      0.0      0.0   \n",
       "  0.0      0.0      0.0      0.0         0.0      0.0      0.0      0.0   \n",
       "  0.0      0.0      0.0      0.0         0.0      0.0      0.0      0.0   \n",
       "  0.0      0.0      0.0      0.0        47.7449  44.525   47.3217  47.6467\n",
       "  0.0      0.0      0.0      0.0     …  44.7427  49.8058  45.657   46.9912\n",
       "  0.0      0.0      0.0      0.0        47.3912  46.0888  47.1496   0.0   \n",
       "  0.0     48.6394  47.1113  47.1162     45.8963  47.4798  47.6339  46.1525\n",
       "  ⋮                                  ⋱                              ⋮     \n",
       "  0.0     47.5276  48.0823  46.4784  …   0.0      0.0      0.0      0.0   \n",
       " 48.7575  46.9855  51.2317  46.4354      0.0      0.0      0.0      0.0   \n",
       " 48.2267  48.8965  49.019   46.2311      0.0      0.0      0.0      0.0   \n",
       "  0.0      0.0      0.0      0.0        22.5841  24.4428  24.1565  24.396 \n",
       "  0.0      0.0      0.0      0.0        24.4666  23.7471  23.5277  23.1288\n",
       "  0.0      0.0      0.0      0.0     …  22.4946  23.4588  23.2367   0.0   \n",
       "  0.0     47.8975  46.8939  47.7082     24.3629  23.9535  24.8573  23.2212\n",
       " 47.8092  46.5969  47.3945  47.2635     22.4719  22.5456  23.7634  23.2736\n",
       " 46.3036  46.4274  48.2826  44.8051     23.7608  22.9741  23.7823   0.0   \n",
       "  0.0     47.7305  47.9961  44.4473      0.0      0.0      0.0      0.0   \n",
       " 46.9746  48.1244  46.1661  45.8664  …   0.0      0.0      0.0      0.0   \n",
       " 46.7179  46.6322  46.3423  45.9159      0.0      0.0      0.0      0.0   "
      ]
     },
     "execution_count": 4,
     "metadata": {},
     "output_type": "execute_result"
    }
   ],
   "source": [
    "@time sadexp2(fixed, moving, displacements, (64,64,26))"
   ]
  },
  {
   "cell_type": "code",
   "execution_count": 6,
   "metadata": {
    "collapsed": false
   },
   "outputs": [
    {
     "name": "stdout",
     "output_type": "stream",
     "text": [
      "  5.582497 seconds (55.08 k allocations: 24.258 MB, 0.08% gc time)\n"
     ]
    },
    {
     "data": {
      "text/plain": [
       "27×106496 Array{Float64,2}:\n",
       "  0.0      0.0      0.0      0.0     …  46.014   45.7646  47.3708  45.8706\n",
       "  0.0      0.0      0.0      0.0        46.2716  47.6468  46.5452  47.2086\n",
       "  0.0      0.0      0.0      0.0        44.7346  45.6662  47.4459   0.0   \n",
       "  0.0      0.0      0.0      0.0        47.0722  46.7855  48.477   46.3486\n",
       "  0.0      0.0      0.0      0.0        47.0204  47.0546  47.7439  45.9388\n",
       "  0.0      0.0      0.0      0.0     …  48.5392  46.1386  48.1979   0.0   \n",
       "  0.0      0.0      0.0      0.0         0.0      0.0      0.0      0.0   \n",
       "  0.0      0.0      0.0      0.0         0.0      0.0      0.0      0.0   \n",
       "  0.0      0.0      0.0      0.0         0.0      0.0      0.0      0.0   \n",
       "  0.0      0.0      0.0      0.0        47.7449  44.525   47.3217  47.6467\n",
       "  0.0      0.0      0.0      0.0     …  44.7427  49.8058  45.657   46.9912\n",
       "  0.0      0.0      0.0      0.0        47.3912  46.0888  47.1496   0.0   \n",
       "  0.0     48.6394  47.1113  47.1162     45.8963  47.4798  47.6339  46.1525\n",
       "  ⋮                                  ⋱                              ⋮     \n",
       "  0.0     47.5276  48.0823  46.4784  …   0.0      0.0      0.0      0.0   \n",
       " 48.7575  46.9855  51.2317  46.4354      0.0      0.0      0.0      0.0   \n",
       " 48.2267  48.8965  49.019   46.2311      0.0      0.0      0.0      0.0   \n",
       "  0.0      0.0      0.0      0.0        22.5841  24.4428  24.1565  24.396 \n",
       "  0.0      0.0      0.0      0.0        24.4666  23.7471  23.5277  23.1288\n",
       "  0.0      0.0      0.0      0.0     …  22.4946  23.4588  23.2367   0.0   \n",
       "  0.0     47.8975  46.8939  47.7082     24.3629  23.9535  24.8573  23.2212\n",
       " 47.8092  46.5969  47.3945  47.2635     22.4719  22.5456  23.7634  23.2736\n",
       " 46.3036  46.4274  48.2826  44.8051     23.7608  22.9741  23.7823   0.0   \n",
       "  0.0     47.7305  47.9961  44.4473      0.0      0.0      0.0      0.0   \n",
       " 46.9746  48.1244  46.1661  45.8664  …   0.0      0.0      0.0      0.0   \n",
       " 46.7179  46.6322  46.3423  45.9159      0.0      0.0      0.0      0.0   "
      ]
     },
     "execution_count": 6,
     "metadata": {},
     "output_type": "execute_result"
    }
   ],
   "source": [
    "@time sum_diff(abs, fixed, moving, displacements, (64,64,26))"
   ]
  },
  {
   "cell_type": "code",
   "execution_count": 4,
   "metadata": {
    "collapsed": false
   },
   "outputs": [
    {
     "data": {
      "text/plain": [
       "BenchmarkTools.Trial: \n",
       "  memory estimate:  21.94 MiB\n",
       "  allocs estimate:  5\n",
       "  --------------\n",
       "  minimum time:     5.580 s (0.01% GC)\n",
       "  median time:      5.580 s (0.01% GC)\n",
       "  mean time:        5.580 s (0.01% GC)\n",
       "  maximum time:     5.580 s (0.01% GC)\n",
       "  --------------\n",
       "  samples:          1\n",
       "  evals/sample:     1\n",
       "  time tolerance:   5.00%\n",
       "  memory tolerance: 1.00%"
      ]
     },
     "execution_count": 4,
     "metadata": {},
     "output_type": "execute_result"
    }
   ],
   "source": [
    "@benchmark sum_diff(abs, fixed, moving, displacements, (64,64,26))"
   ]
  },
  {
   "cell_type": "code",
   "execution_count": null,
   "metadata": {
    "collapsed": true
   },
   "outputs": [],
   "source": []
  }
 ],
 "metadata": {
  "kernelspec": {
   "display_name": "Julia 0.5.0",
   "language": "julia",
   "name": "julia-0.5"
  },
  "language_info": {
   "file_extension": ".jl",
   "mimetype": "application/julia",
   "name": "julia",
   "version": "0.5.0"
  }
 },
 "nbformat": 4,
 "nbformat_minor": 1
}
