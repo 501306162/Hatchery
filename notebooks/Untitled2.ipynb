{
 "cells": [
  {
   "cell_type": "code",
   "execution_count": 1,
   "metadata": {
    "collapsed": false
   },
   "outputs": [
    {
     "name": "stderr",
     "output_type": "stream",
     "text": [
      "WARNING: Base.ByteString is deprecated, use String instead.\n",
      "  likely near /Users/gnimuc/.julia/v0.5/NIfTI/src/NIfTI.jl:88\n"
     ]
    }
   ],
   "source": [
    "using NRIRHOPM, BenchmarkTools, FileIO, Images, Plots"
   ]
  },
  {
   "cell_type": "code",
   "execution_count": 2,
   "metadata": {
    "collapsed": false
   },
   "outputs": [
    {
     "data": {
      "image/png": "[encoded data removed]",
      "text/plain": [
       "129×130 Array{Gray{N0f8},2}:\n",
       " Gray{N0f8}(0.012)  Gray{N0f8}(0.012)  …  Gray{N0f8}(0.012)\n",
       " Gray{N0f8}(0.0)    Gray{N0f8}(0.0)       Gray{N0f8}(0.0)  \n",
       " Gray{N0f8}(0.0)    Gray{N0f8}(0.0)       Gray{N0f8}(0.0)  \n",
       " Gray{N0f8}(0.0)    Gray{N0f8}(0.0)       Gray{N0f8}(0.0)  \n",
       " Gray{N0f8}(0.0)    Gray{N0f8}(0.0)       Gray{N0f8}(0.0)  \n",
       " Gray{N0f8}(0.0)    Gray{N0f8}(0.0)    …  Gray{N0f8}(0.0)  \n",
       " Gray{N0f8}(0.0)    Gray{N0f8}(0.0)       Gray{N0f8}(0.0)  \n",
       " Gray{N0f8}(0.0)    Gray{N0f8}(0.0)       Gray{N0f8}(0.0)  \n",
       " Gray{N0f8}(0.0)    Gray{N0f8}(0.0)       Gray{N0f8}(0.0)  \n",
       " Gray{N0f8}(0.0)    Gray{N0f8}(0.0)       Gray{N0f8}(0.0)  \n",
       " Gray{N0f8}(0.0)    Gray{N0f8}(0.0)    …  Gray{N0f8}(0.0)  \n",
       " Gray{N0f8}(0.0)    Gray{N0f8}(0.0)       Gray{N0f8}(0.0)  \n",
       " Gray{N0f8}(0.0)    Gray{N0f8}(0.0)       Gray{N0f8}(0.0)  \n",
       " ⋮                                     ⋱                   \n",
       " Gray{N0f8}(0.0)    Gray{N0f8}(0.0)       Gray{N0f8}(0.0)  \n",
       " Gray{N0f8}(0.0)    Gray{N0f8}(0.0)       Gray{N0f8}(0.0)  \n",
       " Gray{N0f8}(0.0)    Gray{N0f8}(0.0)       Gray{N0f8}(0.0)  \n",
       " Gray{N0f8}(0.0)    Gray{N0f8}(0.0)    …  Gray{N0f8}(0.0)  \n",
       " Gray{N0f8}(0.0)    Gray{N0f8}(0.0)       Gray{N0f8}(0.0)  \n",
       " Gray{N0f8}(0.0)    Gray{N0f8}(0.0)       Gray{N0f8}(0.0)  \n",
       " Gray{N0f8}(0.0)    Gray{N0f8}(0.0)       Gray{N0f8}(0.0)  \n",
       " Gray{N0f8}(0.0)    Gray{N0f8}(0.0)       Gray{N0f8}(0.0)  \n",
       " Gray{N0f8}(0.0)    Gray{N0f8}(0.0)    …  Gray{N0f8}(0.0)  \n",
       " Gray{N0f8}(0.0)    Gray{N0f8}(0.0)       Gray{N0f8}(0.0)  \n",
       " Gray{N0f8}(0.0)    Gray{N0f8}(0.0)       Gray{N0f8}(0.0)  \n",
       " Gray{N0f8}(0.0)    Gray{N0f8}(0.0)       Gray{N0f8}(0.0)  "
      ]
     },
     "execution_count": 2,
     "metadata": {},
     "output_type": "execute_result"
    }
   ],
   "source": [
    "include(\"draw2.jl\")\n",
    "circle = Gray.(load(\"./ring.png\"))"
   ]
  },
  {
   "cell_type": "code",
   "execution_count": 3,
   "metadata": {
    "collapsed": false
   },
   "outputs": [
    {
     "data": {
      "image/png": "[encoded data removed]",
      "text/plain": [
       "130×129 Array{Gray{N0f8},2}:\n",
       " Gray{N0f8}(0.118)  Gray{N0f8}(0.094)  …  Gray{N0f8}(0.094)\n",
       " Gray{N0f8}(0.035)  Gray{N0f8}(0.0)       Gray{N0f8}(0.0)  \n",
       " Gray{N0f8}(0.031)  Gray{N0f8}(0.0)       Gray{N0f8}(0.0)  \n",
       " Gray{N0f8}(0.063)  Gray{N0f8}(0.0)       Gray{N0f8}(0.0)  \n",
       " Gray{N0f8}(0.067)  Gray{N0f8}(0.0)       Gray{N0f8}(0.0)  \n",
       " Gray{N0f8}(0.067)  Gray{N0f8}(0.0)    …  Gray{N0f8}(0.0)  \n",
       " Gray{N0f8}(0.067)  Gray{N0f8}(0.0)       Gray{N0f8}(0.0)  \n",
       " Gray{N0f8}(0.067)  Gray{N0f8}(0.0)       Gray{N0f8}(0.0)  \n",
       " Gray{N0f8}(0.067)  Gray{N0f8}(0.0)       Gray{N0f8}(0.0)  \n",
       " Gray{N0f8}(0.067)  Gray{N0f8}(0.0)       Gray{N0f8}(0.0)  \n",
       " Gray{N0f8}(0.067)  Gray{N0f8}(0.0)    …  Gray{N0f8}(0.0)  \n",
       " Gray{N0f8}(0.067)  Gray{N0f8}(0.0)       Gray{N0f8}(0.0)  \n",
       " Gray{N0f8}(0.067)  Gray{N0f8}(0.0)       Gray{N0f8}(0.0)  \n",
       " ⋮                                     ⋱                   \n",
       " Gray{N0f8}(0.09)   Gray{N0f8}(0.0)       Gray{N0f8}(0.0)  \n",
       " Gray{N0f8}(0.165)  Gray{N0f8}(0.0)       Gray{N0f8}(0.0)  \n",
       " Gray{N0f8}(0.173)  Gray{N0f8}(0.0)    …  Gray{N0f8}(0.0)  \n",
       " Gray{N0f8}(0.188)  Gray{N0f8}(0.0)       Gray{N0f8}(0.0)  \n",
       " Gray{N0f8}(0.129)  Gray{N0f8}(0.0)       Gray{N0f8}(0.0)  \n",
       " Gray{N0f8}(0.149)  Gray{N0f8}(0.0)       Gray{N0f8}(0.0)  \n",
       " Gray{N0f8}(0.184)  Gray{N0f8}(0.0)       Gray{N0f8}(0.0)  \n",
       " Gray{N0f8}(0.192)  Gray{N0f8}(0.0)    …  Gray{N0f8}(0.0)  \n",
       " Gray{N0f8}(0.188)  Gray{N0f8}(0.0)       Gray{N0f8}(0.0)  \n",
       " Gray{N0f8}(0.169)  Gray{N0f8}(0.0)       Gray{N0f8}(0.0)  \n",
       " Gray{N0f8}(0.173)  Gray{N0f8}(0.0)       Gray{N0f8}(0.0)  \n",
       " Gray{N0f8}(0.192)  Gray{N0f8}(0.0)       Gray{N0f8}(0.0)  "
      ]
     },
     "execution_count": 3,
     "metadata": {},
     "output_type": "execute_result"
    }
   ],
   "source": [
    "square = Gray.(load(\"./square.png\"))"
   ]
  },
  {
   "cell_type": "code",
   "execution_count": 4,
   "metadata": {
    "collapsed": true
   },
   "outputs": [],
   "source": [
    "square, circle = restrict(square), restrict(circle); \n",
    "fixed, moving = square[1:64,1:64],  circle[1:64,1:64];"
   ]
  },
  {
   "cell_type": "code",
   "execution_count": 7,
   "metadata": {
    "collapsed": false
   },
   "outputs": [
    {
     "name": "stdout",
     "output_type": "stream",
     "text": [
      "\u001b[1m\u001b[32m[ 2017-03-09T23:11:08 | info ]: Start multilevel processing...\n",
      "\u001b[0m\u001b[1m\u001b[32m[ 2017-03-09T23:11:08 | info ]: Level 0: \n",
      "\u001b[0m\u001b[1m\u001b[32m[ 2017-03-09T23:11:08 | info ]: Image Dimension: (64,64)\n",
      "\u001b[0m\u001b[1m\u001b[32m[ 2017-03-09T23:11:08 | info ]: Grid Dimension: (32,32)\n",
      "\u001b[0m\u001b[1m\u001b[32m[ 2017-03-09T23:11:08 | info ]: Creating data cost with weight=1: \n",
      "\u001b[0m\u001b[1m\u001b[32m[ 2017-03-09T23:11:08 | info ]:   0.485018 seconds (4.70 M allocations: 133.789 MB, 4.93% gc time)\n",
      "\u001b[0m\u001b[1m\u001b[32m[ 2017-03-09T23:11:08 | info ]: Creating smooth cost with weight=0.1: \n",
      "\u001b[0m\u001b[1m\u001b[32m[ 2017-03-09T23:11:08 | info ]:   0.000653 seconds (34 allocations: 232.172 KB)\n",
      "\u001b[0m\u001b[1m\u001b[32m[ 2017-03-09T23:11:08 | info ]: Creating topology cost with weight=0.001: \n",
      "\u001b[0m\u001b[1m\u001b[32m[ 2017-03-09T23:11:08 | info ]:   0.066784 seconds (97 allocations: 32.628 MB, 5.61% gc time)\n",
      "\u001b[0m\u001b[1m\u001b[32m[ 2017-03-09T23:11:08 | info ]: Optimizing via High Order Power Method: \n",
      "\u001b[0m\u001b[1m\u001b[32m[ 2017-03-09T23:12:04 | info ]: HOPM converges in 3 steps.\n",
      "\u001b[0m\u001b[1m\u001b[32m[ 2017-03-09T23:12:24 | info ]:  75.585246 seconds (2.29 k allocations: 41.911 MB, 0.01% gc time)\n",
      "\u001b[0m\u001b[1m\u001b[32m[ 2017-03-09T23:12:24 | info ]: Multilevel processing done!\n",
      "\u001b[0m"
     ]
    },
    {
     "data": {
      "text/html": [
       "7.985567341583252"
      ],
      "text/plain": [
       "7.985567341583252"
      ]
     },
     "execution_count": 7,
     "metadata": {},
     "output_type": "execute_result"
    }
   ],
   "source": [
    "displacetopo = [SVector(i,j) for i in -4:4, j in -4:4]\n",
    "displacementSet = [displacetopo]\n",
    "gridSet = [(32,32)]\n",
    "warpped, d, spec, energy = multilevel(fixed, moving, displacementSet, gridSet, topology=NRIRHOPM.TP2D(), \n",
    "α=1, β=0.1, χ=0.001, method=MixHOPM(maxIteration=20))\n",
    "topologyΔ = vecnorm(warpped[end]-fixed)"
   ]
  },
  {
   "cell_type": "code",
   "execution_count": null,
   "metadata": {
    "collapsed": true
   },
   "outputs": [],
   "source": []
  },
  {
   "cell_type": "code",
   "execution_count": null,
   "metadata": {
    "collapsed": true
   },
   "outputs": [],
   "source": []
  },
  {
   "cell_type": "code",
   "execution_count": null,
   "metadata": {
    "collapsed": true
   },
   "outputs": [],
   "source": []
  },
  {
   "cell_type": "code",
   "execution_count": null,
   "metadata": {
    "collapsed": true
   },
   "outputs": [],
   "source": []
  },
  {
   "cell_type": "code",
   "execution_count": null,
   "metadata": {
    "collapsed": true
   },
   "outputs": [],
   "source": []
  },
  {
   "cell_type": "code",
   "execution_count": 9,
   "metadata": {
    "collapsed": false
   },
   "outputs": [
    {
     "name": "stdout",
     "output_type": "stream",
     "text": [
      "\u001b[1m\u001b[32m[ 2017-03-09T23:08:13 | info ]: Start multilevel processing...\n",
      "\u001b[0m\u001b[1m\u001b[32m[ 2017-03-09T23:08:13 | info ]: Level 0: \n",
      "\u001b[0m\u001b[1m\u001b[32m[ 2017-03-09T23:08:13 | info ]: Image Dimension: (64,64)\n",
      "\u001b[0m\u001b[1m\u001b[32m[ 2017-03-09T23:08:13 | info ]: Grid Dimension: (32,32)\n",
      "\u001b[0m\u001b[1m\u001b[32m[ 2017-03-09T23:08:13 | info ]: Creating data cost with weight=1: \n",
      "\u001b[0m\u001b[1m\u001b[32m[ 2017-03-09T23:08:13 | info ]:   0.317856 seconds (2.89 M allocations: 81.664 MB, 8.15% gc time)\n",
      "\u001b[0m\u001b[1m\u001b[32m[ 2017-03-09T23:08:13 | info ]: Creating smooth cost with weight=0.1: \n",
      "\u001b[0m\u001b[1m\u001b[32m[ 2017-03-09T23:08:13 | info ]:   0.000370 seconds (34 allocations: 167.172 KB)\n",
      "\u001b[0m\u001b[1m\u001b[32m[ 2017-03-09T23:08:13 | info ]: Creating topology cost with weight=0.001: \n",
      "\u001b[0m\u001b[1m\u001b[32m[ 2017-03-09T23:08:13 | info ]:   0.019700 seconds (97 allocations: 7.373 MB)\n",
      "\u001b[0m\u001b[1m\u001b[32m[ 2017-03-09T23:08:13 | info ]: Optimizing via High Order Power Method: \n",
      "\u001b[0m\u001b[1m\u001b[32m[ 2017-03-09T23:08:25 | info ]: HOPM converges in 3 steps.\n",
      "\u001b[0m\u001b[1m\u001b[32m[ 2017-03-09T23:08:29 | info ]:  15.653660 seconds (2.19 k allocations: 10.095 MB, 0.04% gc time)\n",
      "\u001b[0m\u001b[1m\u001b[32m[ 2017-03-09T23:08:29 | info ]: Multilevel processing done!\n",
      "\u001b[0m"
     ]
    },
    {
     "data": {
      "text/html": [
       "7.578822010283096"
      ],
      "text/plain": [
       "7.578822010283096"
      ]
     },
     "execution_count": 9,
     "metadata": {},
     "output_type": "execute_result"
    }
   ],
   "source": [
    "displacetopo = [SVector(i,j) for i in -3:3, j in -3:3]\n",
    "displacementSet = [displacetopo]\n",
    "gridSet = [(32,32)]\n",
    "warpped, d, spec, energy = multilevel(fixed, moving, displacementSet, gridSet, topology=NRIRHOPM.TP2D(), \n",
    "α=1, β=0.1, χ=0.001, method=MixHOPM(maxIteration=20))\n",
    "topologyΔ = vecnorm(warpped[end]-fixed)"
   ]
  },
  {
   "cell_type": "code",
   "execution_count": null,
   "metadata": {
    "collapsed": true
   },
   "outputs": [],
   "source": []
  }
 ],
 "metadata": {
  "kernelspec": {
   "display_name": "Julia 0.5.0",
   "language": "julia",
   "name": "julia-0.5"
  },
  "language_info": {
   "file_extension": ".jl",
   "mimetype": "application/julia",
   "name": "julia",
   "version": "0.5.0"
  }
 },
 "nbformat": 4,
 "nbformat_minor": 1
}
