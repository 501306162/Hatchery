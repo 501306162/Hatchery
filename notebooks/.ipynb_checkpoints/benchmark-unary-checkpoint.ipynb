{
 "cells": [
  {
   "cell_type": "code",
   "execution_count": 1,
   "metadata": {
    "collapsed": true
   },
   "outputs": [],
   "source": [
    "using StaticArrays"
   ]
  },
  {
   "cell_type": "code",
   "execution_count": 2,
   "metadata": {
    "collapsed": false
   },
   "outputs": [
    {
     "data": {
      "text/plain": [
       "sum_diff (generic function with 1 method)"
      ]
     },
     "execution_count": 2,
     "metadata": {},
     "output_type": "execute_result"
    }
   ],
   "source": [
    "include(\"./sumdiff.jl\")"
   ]
  },
  {
   "cell_type": "code",
   "execution_count": 3,
   "metadata": {
    "collapsed": false
   },
   "outputs": [],
   "source": [
    "fixed = rand(256,256,106)\n",
    "moving = rand(256,256,106)\n",
    "displacements = [SVector(i,j,k) for i = -1:1, j = -1:1, k = -1:1];"
   ]
  },
  {
   "cell_type": "code",
   "execution_count": 17,
   "metadata": {
    "collapsed": false
   },
   "outputs": [
    {
     "ename": "LoadError",
     "evalue": "MethodError: no method matching map!(::Base.#+, ::Array{Int64,1}, ::Tuple{Int64,Int64,Int64})\u001b[0m\nClosest candidates are:\n  map!{F}(::F, ::AbstractArray{T,N}) at abstractarray.jl:1674\n  map!{F}(::F, ::AbstractArray{T,N}, \u001b[1m\u001b[31m::AbstractArray{T,N}\u001b[0m) at abstractarray.jl:1676\n  map!{F}(::F, ::AbstractArray{T,N}, \u001b[1m\u001b[31m::AbstractArray{T,N}\u001b[0m, \u001b[1m\u001b[31m::AbstractArray{T,N}\u001b[0m) at abstractarray.jl:1690\n  ...\u001b[0m",
     "output_type": "error",
     "traceback": [
      "MethodError: no method matching map!(::Base.#+, ::Array{Int64,1}, ::Tuple{Int64,Int64,Int64})\u001b[0m\nClosest candidates are:\n  map!{F}(::F, ::AbstractArray{T,N}) at abstractarray.jl:1674\n  map!{F}(::F, ::AbstractArray{T,N}, \u001b[1m\u001b[31m::AbstractArray{T,N}\u001b[0m) at abstractarray.jl:1676\n  map!{F}(::F, ::AbstractArray{T,N}, \u001b[1m\u001b[31m::AbstractArray{T,N}\u001b[0m, \u001b[1m\u001b[31m::AbstractArray{T,N}\u001b[0m) at abstractarray.jl:1690\n  ...\u001b[0m",
      "",
      " in sum_diff_exp(::Base.#abs, ::Array{Float64,3}, ::Array{Float64,3}, ::Array{StaticArrays.SVector{3,Int64},3}, ::Tuple{Int64,Int64,Int64}) at /Users/gnimuc/Documents/Hatchery/notebooks/sumdiff.jl:18",
      " in sadexp(::Array{Float64,3}, ::Array{Float64,3}, ::Array{StaticArrays.SVector{3,Int64},3}, ::Tuple{Int64,Int64,Int64}) at /Users/gnimuc/Documents/Hatchery/notebooks/sumdiff.jl:74"
     ]
    }
   ],
   "source": [
    "@time sadexp(fixed, moving, displacements, (64,64,26))"
   ]
  },
  {
   "cell_type": "code",
   "execution_count": 20,
   "metadata": {
    "collapsed": true
   },
   "outputs": [
    {
     "name": "stdout",
     "output_type": "stream",
     "text": [
      "  5.539987 seconds (10 allocations: 21.938 MB, 0.03% gc time)\n"
     ]
    },
    {
     "data": {
      "text/plain": [
       "27×106496 Array{Float64,2}:\n",
       "  0.0      0.0      0.0      0.0     …  47.4756  49.4982  46.9645  46.787 \n",
       "  0.0      0.0      0.0      0.0        45.9026  48.228   48.4662  48.7501\n",
       "  0.0      0.0      0.0      0.0        47.9619  45.0567  48.5634   0.0   \n",
       "  0.0      0.0      0.0      0.0        44.0116  45.9151  45.8581  46.9678\n",
       "  0.0      0.0      0.0      0.0        44.9211  45.7006  50.0469  47.9665\n",
       "  0.0      0.0      0.0      0.0     …  46.3753  45.4853  47.3956   0.0   \n",
       "  0.0      0.0      0.0      0.0         0.0      0.0      0.0      0.0   \n",
       "  0.0      0.0      0.0      0.0         0.0      0.0      0.0      0.0   \n",
       "  0.0      0.0      0.0      0.0         0.0      0.0      0.0      0.0   \n",
       "  0.0      0.0      0.0      0.0        47.01    48.1102  47.5426  47.4026\n",
       "  0.0      0.0      0.0      0.0     …  48.1591  47.5746  48.038   45.8763\n",
       "  0.0      0.0      0.0      0.0        47.9795  45.0907  47.9051   0.0   \n",
       "  0.0     45.8536  47.1581  46.1694     47.0189  45.8399  47.57    46.5642\n",
       "  ⋮                                  ⋱                              ⋮     \n",
       "  0.0     47.8559  48.0714  44.5587  …   0.0      0.0      0.0      0.0   \n",
       " 46.5396  45.2274  45.1195  46.0954      0.0      0.0      0.0      0.0   \n",
       " 47.3952  46.3773  45.9401  46.241       0.0      0.0      0.0      0.0   \n",
       "  0.0      0.0      0.0      0.0        24.2941  22.328   23.5788  24.5243\n",
       "  0.0      0.0      0.0      0.0        23.7355  23.3625  24.583   23.8831\n",
       "  0.0      0.0      0.0      0.0     …  22.6581  22.421   24.2123   0.0   \n",
       "  0.0     45.2467  48.8616  45.368      23.698   23.0953  22.8189  23.9692\n",
       " 47.3998  48.685   47.2962  46.6121     22.855   22.3236  21.9008  24.042 \n",
       " 45.9392  48.6656  46.0055  47.6218     22.8456  22.4183  22.3218   0.0   \n",
       "  0.0     46.3949  47.9446  44.951       0.0      0.0      0.0      0.0   \n",
       " 45.2777  46.5907  47.6615  47.6555  …   0.0      0.0      0.0      0.0   \n",
       " 46.9459  46.1881  47.857   46.5968      0.0      0.0      0.0      0.0   "
      ]
     },
     "execution_count": 20,
     "metadata": {},
     "output_type": "execute_result"
    }
   ],
   "source": [
    "@time sadexp2(fixed, moving, displacements, (64,64,26))"
   ]
  },
  {
   "cell_type": "code",
   "execution_count": 21,
   "metadata": {
    "collapsed": true
   },
   "outputs": [
    {
     "name": "stdout",
     "output_type": "stream",
     "text": [
      "106.344788 seconds (2.15 G allocations: 70.493 GB, 5.50% gc time)\n"
     ]
    },
    {
     "data": {
      "text/plain": [
       "27×106496 Array{Float64,2}:\n",
       "  0.0      0.0      0.0      0.0     …  47.4756  49.4982  46.9645  46.787 \n",
       "  0.0      0.0      0.0      0.0        45.9026  48.228   48.4662  48.7501\n",
       "  0.0      0.0      0.0      0.0        47.9619  45.0567  48.5634   0.0   \n",
       "  0.0      0.0      0.0      0.0        44.0116  45.9151  45.8581  46.9678\n",
       "  0.0      0.0      0.0      0.0        44.9211  45.7006  50.0469  47.9665\n",
       "  0.0      0.0      0.0      0.0     …  46.3753  45.4853  47.3956   0.0   \n",
       "  0.0      0.0      0.0      0.0         0.0      0.0      0.0      0.0   \n",
       "  0.0      0.0      0.0      0.0         0.0      0.0      0.0      0.0   \n",
       "  0.0      0.0      0.0      0.0         0.0      0.0      0.0      0.0   \n",
       "  0.0      0.0      0.0      0.0        47.01    48.1102  47.5426  47.4026\n",
       "  0.0      0.0      0.0      0.0     …  48.1591  47.5746  48.038   45.8763\n",
       "  0.0      0.0      0.0      0.0        47.9795  45.0907  47.9051   0.0   \n",
       "  0.0     45.8536  47.1581  46.1694     47.0189  45.8399  47.57    46.5642\n",
       "  ⋮                                  ⋱                              ⋮     \n",
       "  0.0     47.8559  48.0714  44.5587  …   0.0      0.0      0.0      0.0   \n",
       " 46.5396  45.2274  45.1195  46.0954      0.0      0.0      0.0      0.0   \n",
       " 47.3952  46.3773  45.9401  46.241       0.0      0.0      0.0      0.0   \n",
       "  0.0      0.0      0.0      0.0        24.2941  22.328   23.5788  24.5243\n",
       "  0.0      0.0      0.0      0.0        23.7355  23.3625  24.583   23.8831\n",
       "  0.0      0.0      0.0      0.0     …  22.6581  22.421   24.2123   0.0   \n",
       "  0.0     45.2467  48.8616  45.368      23.698   23.0953  22.8189  23.9692\n",
       " 47.3998  48.685   47.2962  46.6121     22.855   22.3236  21.9008  24.042 \n",
       " 45.9392  48.6656  46.0055  47.6218     22.8456  22.4183  22.3218   0.0   \n",
       "  0.0     46.3949  47.9446  44.951       0.0      0.0      0.0      0.0   \n",
       " 45.2777  46.5907  47.6615  47.6555  …   0.0      0.0      0.0      0.0   \n",
       " 46.9459  46.1881  47.857   46.5968      0.0      0.0      0.0      0.0   "
      ]
     },
     "execution_count": 21,
     "metadata": {},
     "output_type": "execute_result"
    }
   ],
   "source": [
    "@time sadexp(fixed, moving, displacements, (64,64,26))"
   ]
  },
  {
   "cell_type": "code",
   "execution_count": null,
   "metadata": {
    "collapsed": true
   },
   "outputs": [],
   "source": [
    "sum_diff(abs, fixed, moving, displacements, (64,64,26))"
   ]
  }
 ],
 "metadata": {
  "kernelspec": {
   "display_name": "Julia 0.5.0",
   "language": "julia",
   "name": "julia-0.5"
  },
  "language_info": {
   "file_extension": ".jl",
   "mimetype": "application/julia",
   "name": "julia",
   "version": "0.5.0"
  }
 },
 "nbformat": 4,
 "nbformat_minor": 1
}
